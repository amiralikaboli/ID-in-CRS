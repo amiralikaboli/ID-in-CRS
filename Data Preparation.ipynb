{
  "nbformat": 4,
  "nbformat_minor": 0,
  "metadata": {
    "colab": {
      "name": "Data Preparation.ipynb",
      "provenance": [],
      "collapsed_sections": []
    },
    "kernelspec": {
      "name": "python3",
      "display_name": "Python 3"
    },
    "language_info": {
      "name": "python"
    },
    "widgets": {
      "application/vnd.jupyter.widget-state+json": {
        "697034324b0e40eaaa5964ffb46fed89": {
          "model_module": "@jupyter-widgets/controls",
          "model_name": "HBoxModel",
          "model_module_version": "1.5.0",
          "state": {
            "_view_name": "HBoxView",
            "_dom_classes": [],
            "_model_name": "HBoxModel",
            "_view_module": "@jupyter-widgets/controls",
            "_model_module_version": "1.5.0",
            "_view_count": null,
            "_view_module_version": "1.5.0",
            "box_style": "",
            "layout": "IPY_MODEL_5b6c0df8407b468f92ab3629524d23e3",
            "_model_module": "@jupyter-widgets/controls",
            "children": [
              "IPY_MODEL_3d956e0dc2a940cf983f9f05c818e9be",
              "IPY_MODEL_99352481e3b84e1f8f765659ba7411ec",
              "IPY_MODEL_acd1a3a913ad49e8be3e83f14227e2f7"
            ]
          }
        },
        "5b6c0df8407b468f92ab3629524d23e3": {
          "model_module": "@jupyter-widgets/base",
          "model_name": "LayoutModel",
          "model_module_version": "1.2.0",
          "state": {
            "_view_name": "LayoutView",
            "grid_template_rows": null,
            "right": null,
            "justify_content": null,
            "_view_module": "@jupyter-widgets/base",
            "overflow": null,
            "_model_module_version": "1.2.0",
            "_view_count": null,
            "flex_flow": null,
            "width": null,
            "min_width": null,
            "border": null,
            "align_items": null,
            "bottom": null,
            "_model_module": "@jupyter-widgets/base",
            "top": null,
            "grid_column": null,
            "overflow_y": null,
            "overflow_x": null,
            "grid_auto_flow": null,
            "grid_area": null,
            "grid_template_columns": null,
            "flex": null,
            "_model_name": "LayoutModel",
            "justify_items": null,
            "grid_row": null,
            "max_height": null,
            "align_content": null,
            "visibility": null,
            "align_self": null,
            "height": null,
            "min_height": null,
            "padding": null,
            "grid_auto_rows": null,
            "grid_gap": null,
            "max_width": null,
            "order": null,
            "_view_module_version": "1.2.0",
            "grid_template_areas": null,
            "object_position": null,
            "object_fit": null,
            "grid_auto_columns": null,
            "margin": null,
            "display": null,
            "left": null
          }
        },
        "3d956e0dc2a940cf983f9f05c818e9be": {
          "model_module": "@jupyter-widgets/controls",
          "model_name": "HTMLModel",
          "model_module_version": "1.5.0",
          "state": {
            "_view_name": "HTMLView",
            "style": "IPY_MODEL_4a9991ef94594f00b76d72d8ff5fb6b9",
            "_dom_classes": [],
            "description": "",
            "_model_name": "HTMLModel",
            "placeholder": "​",
            "_view_module": "@jupyter-widgets/controls",
            "_model_module_version": "1.5.0",
            "value": "Downloading: ",
            "_view_count": null,
            "_view_module_version": "1.5.0",
            "description_tooltip": null,
            "_model_module": "@jupyter-widgets/controls",
            "layout": "IPY_MODEL_ca1f35cdb29f48219ca7c9f06b3dca7d"
          }
        },
        "99352481e3b84e1f8f765659ba7411ec": {
          "model_module": "@jupyter-widgets/controls",
          "model_name": "FloatProgressModel",
          "model_module_version": "1.5.0",
          "state": {
            "_view_name": "ProgressView",
            "style": "IPY_MODEL_d77af4d202254574a8c4c5442637bf1b",
            "_dom_classes": [],
            "description": "",
            "_model_name": "FloatProgressModel",
            "bar_style": "success",
            "max": 3096,
            "_view_module": "@jupyter-widgets/controls",
            "_model_module_version": "1.5.0",
            "value": 3096,
            "_view_count": null,
            "_view_module_version": "1.5.0",
            "orientation": "horizontal",
            "min": 0,
            "description_tooltip": null,
            "_model_module": "@jupyter-widgets/controls",
            "layout": "IPY_MODEL_93a5504c90574b62bd5a74a90bf79fc5"
          }
        },
        "acd1a3a913ad49e8be3e83f14227e2f7": {
          "model_module": "@jupyter-widgets/controls",
          "model_name": "HTMLModel",
          "model_module_version": "1.5.0",
          "state": {
            "_view_name": "HTMLView",
            "style": "IPY_MODEL_b816db3e630a45ca956c412aeb6666e2",
            "_dom_classes": [],
            "description": "",
            "_model_name": "HTMLModel",
            "placeholder": "​",
            "_view_module": "@jupyter-widgets/controls",
            "_model_module_version": "1.5.0",
            "value": " 13.1k/? [00:00&lt;00:00, 252kB/s]",
            "_view_count": null,
            "_view_module_version": "1.5.0",
            "description_tooltip": null,
            "_model_module": "@jupyter-widgets/controls",
            "layout": "IPY_MODEL_2c042df53c3145c18a33dddb0cfa57de"
          }
        },
        "4a9991ef94594f00b76d72d8ff5fb6b9": {
          "model_module": "@jupyter-widgets/controls",
          "model_name": "DescriptionStyleModel",
          "model_module_version": "1.5.0",
          "state": {
            "_view_name": "StyleView",
            "_model_name": "DescriptionStyleModel",
            "description_width": "",
            "_view_module": "@jupyter-widgets/base",
            "_model_module_version": "1.5.0",
            "_view_count": null,
            "_view_module_version": "1.2.0",
            "_model_module": "@jupyter-widgets/controls"
          }
        },
        "ca1f35cdb29f48219ca7c9f06b3dca7d": {
          "model_module": "@jupyter-widgets/base",
          "model_name": "LayoutModel",
          "model_module_version": "1.2.0",
          "state": {
            "_view_name": "LayoutView",
            "grid_template_rows": null,
            "right": null,
            "justify_content": null,
            "_view_module": "@jupyter-widgets/base",
            "overflow": null,
            "_model_module_version": "1.2.0",
            "_view_count": null,
            "flex_flow": null,
            "width": null,
            "min_width": null,
            "border": null,
            "align_items": null,
            "bottom": null,
            "_model_module": "@jupyter-widgets/base",
            "top": null,
            "grid_column": null,
            "overflow_y": null,
            "overflow_x": null,
            "grid_auto_flow": null,
            "grid_area": null,
            "grid_template_columns": null,
            "flex": null,
            "_model_name": "LayoutModel",
            "justify_items": null,
            "grid_row": null,
            "max_height": null,
            "align_content": null,
            "visibility": null,
            "align_self": null,
            "height": null,
            "min_height": null,
            "padding": null,
            "grid_auto_rows": null,
            "grid_gap": null,
            "max_width": null,
            "order": null,
            "_view_module_version": "1.2.0",
            "grid_template_areas": null,
            "object_position": null,
            "object_fit": null,
            "grid_auto_columns": null,
            "margin": null,
            "display": null,
            "left": null
          }
        },
        "d77af4d202254574a8c4c5442637bf1b": {
          "model_module": "@jupyter-widgets/controls",
          "model_name": "ProgressStyleModel",
          "model_module_version": "1.5.0",
          "state": {
            "_view_name": "StyleView",
            "_model_name": "ProgressStyleModel",
            "description_width": "",
            "_view_module": "@jupyter-widgets/base",
            "_model_module_version": "1.5.0",
            "_view_count": null,
            "_view_module_version": "1.2.0",
            "bar_color": null,
            "_model_module": "@jupyter-widgets/controls"
          }
        },
        "93a5504c90574b62bd5a74a90bf79fc5": {
          "model_module": "@jupyter-widgets/base",
          "model_name": "LayoutModel",
          "model_module_version": "1.2.0",
          "state": {
            "_view_name": "LayoutView",
            "grid_template_rows": null,
            "right": null,
            "justify_content": null,
            "_view_module": "@jupyter-widgets/base",
            "overflow": null,
            "_model_module_version": "1.2.0",
            "_view_count": null,
            "flex_flow": null,
            "width": null,
            "min_width": null,
            "border": null,
            "align_items": null,
            "bottom": null,
            "_model_module": "@jupyter-widgets/base",
            "top": null,
            "grid_column": null,
            "overflow_y": null,
            "overflow_x": null,
            "grid_auto_flow": null,
            "grid_area": null,
            "grid_template_columns": null,
            "flex": null,
            "_model_name": "LayoutModel",
            "justify_items": null,
            "grid_row": null,
            "max_height": null,
            "align_content": null,
            "visibility": null,
            "align_self": null,
            "height": null,
            "min_height": null,
            "padding": null,
            "grid_auto_rows": null,
            "grid_gap": null,
            "max_width": null,
            "order": null,
            "_view_module_version": "1.2.0",
            "grid_template_areas": null,
            "object_position": null,
            "object_fit": null,
            "grid_auto_columns": null,
            "margin": null,
            "display": null,
            "left": null
          }
        },
        "b816db3e630a45ca956c412aeb6666e2": {
          "model_module": "@jupyter-widgets/controls",
          "model_name": "DescriptionStyleModel",
          "model_module_version": "1.5.0",
          "state": {
            "_view_name": "StyleView",
            "_model_name": "DescriptionStyleModel",
            "description_width": "",
            "_view_module": "@jupyter-widgets/base",
            "_model_module_version": "1.5.0",
            "_view_count": null,
            "_view_module_version": "1.2.0",
            "_model_module": "@jupyter-widgets/controls"
          }
        },
        "2c042df53c3145c18a33dddb0cfa57de": {
          "model_module": "@jupyter-widgets/base",
          "model_name": "LayoutModel",
          "model_module_version": "1.2.0",
          "state": {
            "_view_name": "LayoutView",
            "grid_template_rows": null,
            "right": null,
            "justify_content": null,
            "_view_module": "@jupyter-widgets/base",
            "overflow": null,
            "_model_module_version": "1.2.0",
            "_view_count": null,
            "flex_flow": null,
            "width": null,
            "min_width": null,
            "border": null,
            "align_items": null,
            "bottom": null,
            "_model_module": "@jupyter-widgets/base",
            "top": null,
            "grid_column": null,
            "overflow_y": null,
            "overflow_x": null,
            "grid_auto_flow": null,
            "grid_area": null,
            "grid_template_columns": null,
            "flex": null,
            "_model_name": "LayoutModel",
            "justify_items": null,
            "grid_row": null,
            "max_height": null,
            "align_content": null,
            "visibility": null,
            "align_self": null,
            "height": null,
            "min_height": null,
            "padding": null,
            "grid_auto_rows": null,
            "grid_gap": null,
            "max_width": null,
            "order": null,
            "_view_module_version": "1.2.0",
            "grid_template_areas": null,
            "object_position": null,
            "object_fit": null,
            "grid_auto_columns": null,
            "margin": null,
            "display": null,
            "left": null
          }
        },
        "6493e3831de94605890b702c024d4f9b": {
          "model_module": "@jupyter-widgets/controls",
          "model_name": "HBoxModel",
          "model_module_version": "1.5.0",
          "state": {
            "_view_name": "HBoxView",
            "_dom_classes": [],
            "_model_name": "HBoxModel",
            "_view_module": "@jupyter-widgets/controls",
            "_model_module_version": "1.5.0",
            "_view_count": null,
            "_view_module_version": "1.5.0",
            "box_style": "",
            "layout": "IPY_MODEL_1fdda156009b4eacbf25c61681192050",
            "_model_module": "@jupyter-widgets/controls",
            "children": [
              "IPY_MODEL_9889986aedcd450ca2a509ae09b783ad",
              "IPY_MODEL_30857530e385497fbb4e806597c2f0d6",
              "IPY_MODEL_14323a1073564779b8a52fc575b2c424"
            ]
          }
        },
        "1fdda156009b4eacbf25c61681192050": {
          "model_module": "@jupyter-widgets/base",
          "model_name": "LayoutModel",
          "model_module_version": "1.2.0",
          "state": {
            "_view_name": "LayoutView",
            "grid_template_rows": null,
            "right": null,
            "justify_content": null,
            "_view_module": "@jupyter-widgets/base",
            "overflow": null,
            "_model_module_version": "1.2.0",
            "_view_count": null,
            "flex_flow": null,
            "width": null,
            "min_width": null,
            "border": null,
            "align_items": null,
            "bottom": null,
            "_model_module": "@jupyter-widgets/base",
            "top": null,
            "grid_column": null,
            "overflow_y": null,
            "overflow_x": null,
            "grid_auto_flow": null,
            "grid_area": null,
            "grid_template_columns": null,
            "flex": null,
            "_model_name": "LayoutModel",
            "justify_items": null,
            "grid_row": null,
            "max_height": null,
            "align_content": null,
            "visibility": null,
            "align_self": null,
            "height": null,
            "min_height": null,
            "padding": null,
            "grid_auto_rows": null,
            "grid_gap": null,
            "max_width": null,
            "order": null,
            "_view_module_version": "1.2.0",
            "grid_template_areas": null,
            "object_position": null,
            "object_fit": null,
            "grid_auto_columns": null,
            "margin": null,
            "display": null,
            "left": null
          }
        },
        "9889986aedcd450ca2a509ae09b783ad": {
          "model_module": "@jupyter-widgets/controls",
          "model_name": "HTMLModel",
          "model_module_version": "1.5.0",
          "state": {
            "_view_name": "HTMLView",
            "style": "IPY_MODEL_3a6a60f6990045fa84a07c52cb62f779",
            "_dom_classes": [],
            "description": "",
            "_model_name": "HTMLModel",
            "placeholder": "​",
            "_view_module": "@jupyter-widgets/controls",
            "_model_module_version": "1.5.0",
            "value": "Downloading: ",
            "_view_count": null,
            "_view_module_version": "1.5.0",
            "description_tooltip": null,
            "_model_module": "@jupyter-widgets/controls",
            "layout": "IPY_MODEL_517233899bf14d268aa103df96fd8323"
          }
        },
        "30857530e385497fbb4e806597c2f0d6": {
          "model_module": "@jupyter-widgets/controls",
          "model_name": "FloatProgressModel",
          "model_module_version": "1.5.0",
          "state": {
            "_view_name": "ProgressView",
            "style": "IPY_MODEL_b27c214576e84483bb2054027dabe035",
            "_dom_classes": [],
            "description": "",
            "_model_name": "FloatProgressModel",
            "bar_style": "success",
            "max": 2771,
            "_view_module": "@jupyter-widgets/controls",
            "_model_module_version": "1.5.0",
            "value": 2771,
            "_view_count": null,
            "_view_module_version": "1.5.0",
            "orientation": "horizontal",
            "min": 0,
            "description_tooltip": null,
            "_model_module": "@jupyter-widgets/controls",
            "layout": "IPY_MODEL_8cb3df3349f14a38bc77ef6a685dd42c"
          }
        },
        "14323a1073564779b8a52fc575b2c424": {
          "model_module": "@jupyter-widgets/controls",
          "model_name": "HTMLModel",
          "model_module_version": "1.5.0",
          "state": {
            "_view_name": "HTMLView",
            "style": "IPY_MODEL_c557ae3e3ffa46d282f1b7b70c7dd209",
            "_dom_classes": [],
            "description": "",
            "_model_name": "HTMLModel",
            "placeholder": "​",
            "_view_module": "@jupyter-widgets/controls",
            "_model_module_version": "1.5.0",
            "value": " 18.0k/? [00:00&lt;00:00, 396kB/s]",
            "_view_count": null,
            "_view_module_version": "1.5.0",
            "description_tooltip": null,
            "_model_module": "@jupyter-widgets/controls",
            "layout": "IPY_MODEL_bf7cf7fd26f04fe981b6872f58c80865"
          }
        },
        "3a6a60f6990045fa84a07c52cb62f779": {
          "model_module": "@jupyter-widgets/controls",
          "model_name": "DescriptionStyleModel",
          "model_module_version": "1.5.0",
          "state": {
            "_view_name": "StyleView",
            "_model_name": "DescriptionStyleModel",
            "description_width": "",
            "_view_module": "@jupyter-widgets/base",
            "_model_module_version": "1.5.0",
            "_view_count": null,
            "_view_module_version": "1.2.0",
            "_model_module": "@jupyter-widgets/controls"
          }
        },
        "517233899bf14d268aa103df96fd8323": {
          "model_module": "@jupyter-widgets/base",
          "model_name": "LayoutModel",
          "model_module_version": "1.2.0",
          "state": {
            "_view_name": "LayoutView",
            "grid_template_rows": null,
            "right": null,
            "justify_content": null,
            "_view_module": "@jupyter-widgets/base",
            "overflow": null,
            "_model_module_version": "1.2.0",
            "_view_count": null,
            "flex_flow": null,
            "width": null,
            "min_width": null,
            "border": null,
            "align_items": null,
            "bottom": null,
            "_model_module": "@jupyter-widgets/base",
            "top": null,
            "grid_column": null,
            "overflow_y": null,
            "overflow_x": null,
            "grid_auto_flow": null,
            "grid_area": null,
            "grid_template_columns": null,
            "flex": null,
            "_model_name": "LayoutModel",
            "justify_items": null,
            "grid_row": null,
            "max_height": null,
            "align_content": null,
            "visibility": null,
            "align_self": null,
            "height": null,
            "min_height": null,
            "padding": null,
            "grid_auto_rows": null,
            "grid_gap": null,
            "max_width": null,
            "order": null,
            "_view_module_version": "1.2.0",
            "grid_template_areas": null,
            "object_position": null,
            "object_fit": null,
            "grid_auto_columns": null,
            "margin": null,
            "display": null,
            "left": null
          }
        },
        "b27c214576e84483bb2054027dabe035": {
          "model_module": "@jupyter-widgets/controls",
          "model_name": "ProgressStyleModel",
          "model_module_version": "1.5.0",
          "state": {
            "_view_name": "StyleView",
            "_model_name": "ProgressStyleModel",
            "description_width": "",
            "_view_module": "@jupyter-widgets/base",
            "_model_module_version": "1.5.0",
            "_view_count": null,
            "_view_module_version": "1.2.0",
            "bar_color": null,
            "_model_module": "@jupyter-widgets/controls"
          }
        },
        "8cb3df3349f14a38bc77ef6a685dd42c": {
          "model_module": "@jupyter-widgets/base",
          "model_name": "LayoutModel",
          "model_module_version": "1.2.0",
          "state": {
            "_view_name": "LayoutView",
            "grid_template_rows": null,
            "right": null,
            "justify_content": null,
            "_view_module": "@jupyter-widgets/base",
            "overflow": null,
            "_model_module_version": "1.2.0",
            "_view_count": null,
            "flex_flow": null,
            "width": null,
            "min_width": null,
            "border": null,
            "align_items": null,
            "bottom": null,
            "_model_module": "@jupyter-widgets/base",
            "top": null,
            "grid_column": null,
            "overflow_y": null,
            "overflow_x": null,
            "grid_auto_flow": null,
            "grid_area": null,
            "grid_template_columns": null,
            "flex": null,
            "_model_name": "LayoutModel",
            "justify_items": null,
            "grid_row": null,
            "max_height": null,
            "align_content": null,
            "visibility": null,
            "align_self": null,
            "height": null,
            "min_height": null,
            "padding": null,
            "grid_auto_rows": null,
            "grid_gap": null,
            "max_width": null,
            "order": null,
            "_view_module_version": "1.2.0",
            "grid_template_areas": null,
            "object_position": null,
            "object_fit": null,
            "grid_auto_columns": null,
            "margin": null,
            "display": null,
            "left": null
          }
        },
        "c557ae3e3ffa46d282f1b7b70c7dd209": {
          "model_module": "@jupyter-widgets/controls",
          "model_name": "DescriptionStyleModel",
          "model_module_version": "1.5.0",
          "state": {
            "_view_name": "StyleView",
            "_model_name": "DescriptionStyleModel",
            "description_width": "",
            "_view_module": "@jupyter-widgets/base",
            "_model_module_version": "1.5.0",
            "_view_count": null,
            "_view_module_version": "1.2.0",
            "_model_module": "@jupyter-widgets/controls"
          }
        },
        "bf7cf7fd26f04fe981b6872f58c80865": {
          "model_module": "@jupyter-widgets/base",
          "model_name": "LayoutModel",
          "model_module_version": "1.2.0",
          "state": {
            "_view_name": "LayoutView",
            "grid_template_rows": null,
            "right": null,
            "justify_content": null,
            "_view_module": "@jupyter-widgets/base",
            "overflow": null,
            "_model_module_version": "1.2.0",
            "_view_count": null,
            "flex_flow": null,
            "width": null,
            "min_width": null,
            "border": null,
            "align_items": null,
            "bottom": null,
            "_model_module": "@jupyter-widgets/base",
            "top": null,
            "grid_column": null,
            "overflow_y": null,
            "overflow_x": null,
            "grid_auto_flow": null,
            "grid_area": null,
            "grid_template_columns": null,
            "flex": null,
            "_model_name": "LayoutModel",
            "justify_items": null,
            "grid_row": null,
            "max_height": null,
            "align_content": null,
            "visibility": null,
            "align_self": null,
            "height": null,
            "min_height": null,
            "padding": null,
            "grid_auto_rows": null,
            "grid_gap": null,
            "max_width": null,
            "order": null,
            "_view_module_version": "1.2.0",
            "grid_template_areas": null,
            "object_position": null,
            "object_fit": null,
            "grid_auto_columns": null,
            "margin": null,
            "display": null,
            "left": null
          }
        },
        "016f302297e84d77a833b934855f30d0": {
          "model_module": "@jupyter-widgets/controls",
          "model_name": "HBoxModel",
          "model_module_version": "1.5.0",
          "state": {
            "_view_name": "HBoxView",
            "_dom_classes": [],
            "_model_name": "HBoxModel",
            "_view_module": "@jupyter-widgets/controls",
            "_model_module_version": "1.5.0",
            "_view_count": null,
            "_view_module_version": "1.5.0",
            "box_style": "",
            "layout": "IPY_MODEL_1edb187cb8524d5d969f328c7b59944b",
            "_model_module": "@jupyter-widgets/controls",
            "children": [
              "IPY_MODEL_bfe50003b8704672bf203f77f297fb2b",
              "IPY_MODEL_d716c91cedb64037918a365324af0b0a",
              "IPY_MODEL_ea759833fe6742eda988f17cb66b66e4"
            ]
          }
        },
        "1edb187cb8524d5d969f328c7b59944b": {
          "model_module": "@jupyter-widgets/base",
          "model_name": "LayoutModel",
          "model_module_version": "1.2.0",
          "state": {
            "_view_name": "LayoutView",
            "grid_template_rows": null,
            "right": null,
            "justify_content": null,
            "_view_module": "@jupyter-widgets/base",
            "overflow": null,
            "_model_module_version": "1.2.0",
            "_view_count": null,
            "flex_flow": null,
            "width": null,
            "min_width": null,
            "border": null,
            "align_items": null,
            "bottom": null,
            "_model_module": "@jupyter-widgets/base",
            "top": null,
            "grid_column": null,
            "overflow_y": null,
            "overflow_x": null,
            "grid_auto_flow": null,
            "grid_area": null,
            "grid_template_columns": null,
            "flex": null,
            "_model_name": "LayoutModel",
            "justify_items": null,
            "grid_row": null,
            "max_height": null,
            "align_content": null,
            "visibility": null,
            "align_self": null,
            "height": null,
            "min_height": null,
            "padding": null,
            "grid_auto_rows": null,
            "grid_gap": null,
            "max_width": null,
            "order": null,
            "_view_module_version": "1.2.0",
            "grid_template_areas": null,
            "object_position": null,
            "object_fit": null,
            "grid_auto_columns": null,
            "margin": null,
            "display": null,
            "left": null
          }
        },
        "bfe50003b8704672bf203f77f297fb2b": {
          "model_module": "@jupyter-widgets/controls",
          "model_name": "HTMLModel",
          "model_module_version": "1.5.0",
          "state": {
            "_view_name": "HTMLView",
            "style": "IPY_MODEL_1fc9c4ba461e448e8d55825a895a4ddc",
            "_dom_classes": [],
            "description": "",
            "_model_name": "HTMLModel",
            "placeholder": "​",
            "_view_module": "@jupyter-widgets/controls",
            "_model_module_version": "1.5.0",
            "value": "",
            "_view_count": null,
            "_view_module_version": "1.5.0",
            "description_tooltip": null,
            "_model_module": "@jupyter-widgets/controls",
            "layout": "IPY_MODEL_75dbe5417e124fcdae82249e37d90aa7"
          }
        },
        "d716c91cedb64037918a365324af0b0a": {
          "model_module": "@jupyter-widgets/controls",
          "model_name": "FloatProgressModel",
          "model_module_version": "1.5.0",
          "state": {
            "_view_name": "ProgressView",
            "style": "IPY_MODEL_1d0560006a7346c7be18c2cc54691365",
            "_dom_classes": [],
            "description": "",
            "_model_name": "FloatProgressModel",
            "bar_style": "info",
            "max": 1,
            "_view_module": "@jupyter-widgets/controls",
            "_model_module_version": "1.5.0",
            "value": 1,
            "_view_count": null,
            "_view_module_version": "1.5.0",
            "orientation": "horizontal",
            "min": 0,
            "description_tooltip": null,
            "_model_module": "@jupyter-widgets/controls",
            "layout": "IPY_MODEL_32bc769991c74ab28c734c1d1c9f8974"
          }
        },
        "ea759833fe6742eda988f17cb66b66e4": {
          "model_module": "@jupyter-widgets/controls",
          "model_name": "HTMLModel",
          "model_module_version": "1.5.0",
          "state": {
            "_view_name": "HTMLView",
            "style": "IPY_MODEL_3a29f6b8b39244008f4741a3030276cd",
            "_dom_classes": [],
            "description": "",
            "_model_name": "HTMLModel",
            "placeholder": "​",
            "_view_module": "@jupyter-widgets/controls",
            "_model_module_version": "1.5.0",
            "value": " 8413/0 [00:21&lt;00:00, 598.62 examples/s]",
            "_view_count": null,
            "_view_module_version": "1.5.0",
            "description_tooltip": null,
            "_model_module": "@jupyter-widgets/controls",
            "layout": "IPY_MODEL_45fc60dd3f1040acacd9d7b630a6062c"
          }
        },
        "1fc9c4ba461e448e8d55825a895a4ddc": {
          "model_module": "@jupyter-widgets/controls",
          "model_name": "DescriptionStyleModel",
          "model_module_version": "1.5.0",
          "state": {
            "_view_name": "StyleView",
            "_model_name": "DescriptionStyleModel",
            "description_width": "",
            "_view_module": "@jupyter-widgets/base",
            "_model_module_version": "1.5.0",
            "_view_count": null,
            "_view_module_version": "1.2.0",
            "_model_module": "@jupyter-widgets/controls"
          }
        },
        "75dbe5417e124fcdae82249e37d90aa7": {
          "model_module": "@jupyter-widgets/base",
          "model_name": "LayoutModel",
          "model_module_version": "1.2.0",
          "state": {
            "_view_name": "LayoutView",
            "grid_template_rows": null,
            "right": null,
            "justify_content": null,
            "_view_module": "@jupyter-widgets/base",
            "overflow": null,
            "_model_module_version": "1.2.0",
            "_view_count": null,
            "flex_flow": null,
            "width": null,
            "min_width": null,
            "border": null,
            "align_items": null,
            "bottom": null,
            "_model_module": "@jupyter-widgets/base",
            "top": null,
            "grid_column": null,
            "overflow_y": null,
            "overflow_x": null,
            "grid_auto_flow": null,
            "grid_area": null,
            "grid_template_columns": null,
            "flex": null,
            "_model_name": "LayoutModel",
            "justify_items": null,
            "grid_row": null,
            "max_height": null,
            "align_content": null,
            "visibility": null,
            "align_self": null,
            "height": null,
            "min_height": null,
            "padding": null,
            "grid_auto_rows": null,
            "grid_gap": null,
            "max_width": null,
            "order": null,
            "_view_module_version": "1.2.0",
            "grid_template_areas": null,
            "object_position": null,
            "object_fit": null,
            "grid_auto_columns": null,
            "margin": null,
            "display": null,
            "left": null
          }
        },
        "1d0560006a7346c7be18c2cc54691365": {
          "model_module": "@jupyter-widgets/controls",
          "model_name": "ProgressStyleModel",
          "model_module_version": "1.5.0",
          "state": {
            "_view_name": "StyleView",
            "_model_name": "ProgressStyleModel",
            "description_width": "",
            "_view_module": "@jupyter-widgets/base",
            "_model_module_version": "1.5.0",
            "_view_count": null,
            "_view_module_version": "1.2.0",
            "bar_color": null,
            "_model_module": "@jupyter-widgets/controls"
          }
        },
        "32bc769991c74ab28c734c1d1c9f8974": {
          "model_module": "@jupyter-widgets/base",
          "model_name": "LayoutModel",
          "model_module_version": "1.2.0",
          "state": {
            "_view_name": "LayoutView",
            "grid_template_rows": null,
            "right": null,
            "justify_content": null,
            "_view_module": "@jupyter-widgets/base",
            "overflow": null,
            "_model_module_version": "1.2.0",
            "_view_count": null,
            "flex_flow": null,
            "width": "20px",
            "min_width": null,
            "border": null,
            "align_items": null,
            "bottom": null,
            "_model_module": "@jupyter-widgets/base",
            "top": null,
            "grid_column": null,
            "overflow_y": null,
            "overflow_x": null,
            "grid_auto_flow": null,
            "grid_area": null,
            "grid_template_columns": null,
            "flex": null,
            "_model_name": "LayoutModel",
            "justify_items": null,
            "grid_row": null,
            "max_height": null,
            "align_content": null,
            "visibility": null,
            "align_self": null,
            "height": null,
            "min_height": null,
            "padding": null,
            "grid_auto_rows": null,
            "grid_gap": null,
            "max_width": null,
            "order": null,
            "_view_module_version": "1.2.0",
            "grid_template_areas": null,
            "object_position": null,
            "object_fit": null,
            "grid_auto_columns": null,
            "margin": null,
            "display": null,
            "left": null
          }
        },
        "3a29f6b8b39244008f4741a3030276cd": {
          "model_module": "@jupyter-widgets/controls",
          "model_name": "DescriptionStyleModel",
          "model_module_version": "1.5.0",
          "state": {
            "_view_name": "StyleView",
            "_model_name": "DescriptionStyleModel",
            "description_width": "",
            "_view_module": "@jupyter-widgets/base",
            "_model_module_version": "1.5.0",
            "_view_count": null,
            "_view_module_version": "1.2.0",
            "_model_module": "@jupyter-widgets/controls"
          }
        },
        "45fc60dd3f1040acacd9d7b630a6062c": {
          "model_module": "@jupyter-widgets/base",
          "model_name": "LayoutModel",
          "model_module_version": "1.2.0",
          "state": {
            "_view_name": "LayoutView",
            "grid_template_rows": null,
            "right": null,
            "justify_content": null,
            "_view_module": "@jupyter-widgets/base",
            "overflow": null,
            "_model_module_version": "1.2.0",
            "_view_count": null,
            "flex_flow": null,
            "width": null,
            "min_width": null,
            "border": null,
            "align_items": null,
            "bottom": null,
            "_model_module": "@jupyter-widgets/base",
            "top": null,
            "grid_column": null,
            "overflow_y": null,
            "overflow_x": null,
            "grid_auto_flow": null,
            "grid_area": null,
            "grid_template_columns": null,
            "flex": null,
            "_model_name": "LayoutModel",
            "justify_items": null,
            "grid_row": null,
            "max_height": null,
            "align_content": null,
            "visibility": null,
            "align_self": null,
            "height": null,
            "min_height": null,
            "padding": null,
            "grid_auto_rows": null,
            "grid_gap": null,
            "max_width": null,
            "order": null,
            "_view_module_version": "1.2.0",
            "grid_template_areas": null,
            "object_position": null,
            "object_fit": null,
            "grid_auto_columns": null,
            "margin": null,
            "display": null,
            "left": null
          }
        },
        "4b1e35eee24c4dd58b5286d28ec80020": {
          "model_module": "@jupyter-widgets/controls",
          "model_name": "HBoxModel",
          "model_module_version": "1.5.0",
          "state": {
            "_view_name": "HBoxView",
            "_dom_classes": [],
            "_model_name": "HBoxModel",
            "_view_module": "@jupyter-widgets/controls",
            "_model_module_version": "1.5.0",
            "_view_count": null,
            "_view_module_version": "1.5.0",
            "box_style": "",
            "layout": "IPY_MODEL_2fef08f8164942eda3461d18dbcb215a",
            "_model_module": "@jupyter-widgets/controls",
            "children": [
              "IPY_MODEL_8240934fb6094d408d9d7604415c70f6",
              "IPY_MODEL_5aae419104384720ad59e4f6c0820cf2",
              "IPY_MODEL_a1a3cac1a7274adea5b7bb2d68563fe7"
            ]
          }
        },
        "2fef08f8164942eda3461d18dbcb215a": {
          "model_module": "@jupyter-widgets/base",
          "model_name": "LayoutModel",
          "model_module_version": "1.2.0",
          "state": {
            "_view_name": "LayoutView",
            "grid_template_rows": null,
            "right": null,
            "justify_content": null,
            "_view_module": "@jupyter-widgets/base",
            "overflow": null,
            "_model_module_version": "1.2.0",
            "_view_count": null,
            "flex_flow": null,
            "width": null,
            "min_width": null,
            "border": null,
            "align_items": null,
            "bottom": null,
            "_model_module": "@jupyter-widgets/base",
            "top": null,
            "grid_column": null,
            "overflow_y": null,
            "overflow_x": null,
            "grid_auto_flow": null,
            "grid_area": null,
            "grid_template_columns": null,
            "flex": null,
            "_model_name": "LayoutModel",
            "justify_items": null,
            "grid_row": null,
            "max_height": null,
            "align_content": null,
            "visibility": null,
            "align_self": null,
            "height": null,
            "min_height": null,
            "padding": null,
            "grid_auto_rows": null,
            "grid_gap": null,
            "max_width": null,
            "order": null,
            "_view_module_version": "1.2.0",
            "grid_template_areas": null,
            "object_position": null,
            "object_fit": null,
            "grid_auto_columns": null,
            "margin": null,
            "display": null,
            "left": null
          }
        },
        "8240934fb6094d408d9d7604415c70f6": {
          "model_module": "@jupyter-widgets/controls",
          "model_name": "HTMLModel",
          "model_module_version": "1.5.0",
          "state": {
            "_view_name": "HTMLView",
            "style": "IPY_MODEL_5f24c1753ceb4f0f9dae3aa97c9515a1",
            "_dom_classes": [],
            "description": "",
            "_model_name": "HTMLModel",
            "placeholder": "​",
            "_view_module": "@jupyter-widgets/controls",
            "_model_module_version": "1.5.0",
            "value": "",
            "_view_count": null,
            "_view_module_version": "1.5.0",
            "description_tooltip": null,
            "_model_module": "@jupyter-widgets/controls",
            "layout": "IPY_MODEL_ac96173145ed4d5cbfe810aab04f680b"
          }
        },
        "5aae419104384720ad59e4f6c0820cf2": {
          "model_module": "@jupyter-widgets/controls",
          "model_name": "FloatProgressModel",
          "model_module_version": "1.5.0",
          "state": {
            "_view_name": "ProgressView",
            "style": "IPY_MODEL_8b9113a3a9b34f2992638d65782828d5",
            "_dom_classes": [],
            "description": "",
            "_model_name": "FloatProgressModel",
            "bar_style": "info",
            "max": 1,
            "_view_module": "@jupyter-widgets/controls",
            "_model_module_version": "1.5.0",
            "value": 1,
            "_view_count": null,
            "_view_module_version": "1.5.0",
            "orientation": "horizontal",
            "min": 0,
            "description_tooltip": null,
            "_model_module": "@jupyter-widgets/controls",
            "layout": "IPY_MODEL_a9c02ab555204e84b5384b6293c6ce77"
          }
        },
        "a1a3cac1a7274adea5b7bb2d68563fe7": {
          "model_module": "@jupyter-widgets/controls",
          "model_name": "HTMLModel",
          "model_module_version": "1.5.0",
          "state": {
            "_view_name": "HTMLView",
            "style": "IPY_MODEL_288e158c6f884c1eaa9b9c2d68751abe",
            "_dom_classes": [],
            "description": "",
            "_model_name": "HTMLModel",
            "placeholder": "​",
            "_view_module": "@jupyter-widgets/controls",
            "_model_module_version": "1.5.0",
            "value": " 982/0 [00:02&lt;00:00, 509.59 examples/s]",
            "_view_count": null,
            "_view_module_version": "1.5.0",
            "description_tooltip": null,
            "_model_module": "@jupyter-widgets/controls",
            "layout": "IPY_MODEL_1ef9fc816eaf4d64aa236e85ba0812c4"
          }
        },
        "5f24c1753ceb4f0f9dae3aa97c9515a1": {
          "model_module": "@jupyter-widgets/controls",
          "model_name": "DescriptionStyleModel",
          "model_module_version": "1.5.0",
          "state": {
            "_view_name": "StyleView",
            "_model_name": "DescriptionStyleModel",
            "description_width": "",
            "_view_module": "@jupyter-widgets/base",
            "_model_module_version": "1.5.0",
            "_view_count": null,
            "_view_module_version": "1.2.0",
            "_model_module": "@jupyter-widgets/controls"
          }
        },
        "ac96173145ed4d5cbfe810aab04f680b": {
          "model_module": "@jupyter-widgets/base",
          "model_name": "LayoutModel",
          "model_module_version": "1.2.0",
          "state": {
            "_view_name": "LayoutView",
            "grid_template_rows": null,
            "right": null,
            "justify_content": null,
            "_view_module": "@jupyter-widgets/base",
            "overflow": null,
            "_model_module_version": "1.2.0",
            "_view_count": null,
            "flex_flow": null,
            "width": null,
            "min_width": null,
            "border": null,
            "align_items": null,
            "bottom": null,
            "_model_module": "@jupyter-widgets/base",
            "top": null,
            "grid_column": null,
            "overflow_y": null,
            "overflow_x": null,
            "grid_auto_flow": null,
            "grid_area": null,
            "grid_template_columns": null,
            "flex": null,
            "_model_name": "LayoutModel",
            "justify_items": null,
            "grid_row": null,
            "max_height": null,
            "align_content": null,
            "visibility": null,
            "align_self": null,
            "height": null,
            "min_height": null,
            "padding": null,
            "grid_auto_rows": null,
            "grid_gap": null,
            "max_width": null,
            "order": null,
            "_view_module_version": "1.2.0",
            "grid_template_areas": null,
            "object_position": null,
            "object_fit": null,
            "grid_auto_columns": null,
            "margin": null,
            "display": null,
            "left": null
          }
        },
        "8b9113a3a9b34f2992638d65782828d5": {
          "model_module": "@jupyter-widgets/controls",
          "model_name": "ProgressStyleModel",
          "model_module_version": "1.5.0",
          "state": {
            "_view_name": "StyleView",
            "_model_name": "ProgressStyleModel",
            "description_width": "",
            "_view_module": "@jupyter-widgets/base",
            "_model_module_version": "1.5.0",
            "_view_count": null,
            "_view_module_version": "1.2.0",
            "bar_color": null,
            "_model_module": "@jupyter-widgets/controls"
          }
        },
        "a9c02ab555204e84b5384b6293c6ce77": {
          "model_module": "@jupyter-widgets/base",
          "model_name": "LayoutModel",
          "model_module_version": "1.2.0",
          "state": {
            "_view_name": "LayoutView",
            "grid_template_rows": null,
            "right": null,
            "justify_content": null,
            "_view_module": "@jupyter-widgets/base",
            "overflow": null,
            "_model_module_version": "1.2.0",
            "_view_count": null,
            "flex_flow": null,
            "width": "20px",
            "min_width": null,
            "border": null,
            "align_items": null,
            "bottom": null,
            "_model_module": "@jupyter-widgets/base",
            "top": null,
            "grid_column": null,
            "overflow_y": null,
            "overflow_x": null,
            "grid_auto_flow": null,
            "grid_area": null,
            "grid_template_columns": null,
            "flex": null,
            "_model_name": "LayoutModel",
            "justify_items": null,
            "grid_row": null,
            "max_height": null,
            "align_content": null,
            "visibility": null,
            "align_self": null,
            "height": null,
            "min_height": null,
            "padding": null,
            "grid_auto_rows": null,
            "grid_gap": null,
            "max_width": null,
            "order": null,
            "_view_module_version": "1.2.0",
            "grid_template_areas": null,
            "object_position": null,
            "object_fit": null,
            "grid_auto_columns": null,
            "margin": null,
            "display": null,
            "left": null
          }
        },
        "288e158c6f884c1eaa9b9c2d68751abe": {
          "model_module": "@jupyter-widgets/controls",
          "model_name": "DescriptionStyleModel",
          "model_module_version": "1.5.0",
          "state": {
            "_view_name": "StyleView",
            "_model_name": "DescriptionStyleModel",
            "description_width": "",
            "_view_module": "@jupyter-widgets/base",
            "_model_module_version": "1.5.0",
            "_view_count": null,
            "_view_module_version": "1.2.0",
            "_model_module": "@jupyter-widgets/controls"
          }
        },
        "1ef9fc816eaf4d64aa236e85ba0812c4": {
          "model_module": "@jupyter-widgets/base",
          "model_name": "LayoutModel",
          "model_module_version": "1.2.0",
          "state": {
            "_view_name": "LayoutView",
            "grid_template_rows": null,
            "right": null,
            "justify_content": null,
            "_view_module": "@jupyter-widgets/base",
            "overflow": null,
            "_model_module_version": "1.2.0",
            "_view_count": null,
            "flex_flow": null,
            "width": null,
            "min_width": null,
            "border": null,
            "align_items": null,
            "bottom": null,
            "_model_module": "@jupyter-widgets/base",
            "top": null,
            "grid_column": null,
            "overflow_y": null,
            "overflow_x": null,
            "grid_auto_flow": null,
            "grid_area": null,
            "grid_template_columns": null,
            "flex": null,
            "_model_name": "LayoutModel",
            "justify_items": null,
            "grid_row": null,
            "max_height": null,
            "align_content": null,
            "visibility": null,
            "align_self": null,
            "height": null,
            "min_height": null,
            "padding": null,
            "grid_auto_rows": null,
            "grid_gap": null,
            "max_width": null,
            "order": null,
            "_view_module_version": "1.2.0",
            "grid_template_areas": null,
            "object_position": null,
            "object_fit": null,
            "grid_auto_columns": null,
            "margin": null,
            "display": null,
            "left": null
          }
        },
        "c7f245a4bdd34dcba9763acc204d1743": {
          "model_module": "@jupyter-widgets/controls",
          "model_name": "HBoxModel",
          "model_module_version": "1.5.0",
          "state": {
            "_view_name": "HBoxView",
            "_dom_classes": [],
            "_model_name": "HBoxModel",
            "_view_module": "@jupyter-widgets/controls",
            "_model_module_version": "1.5.0",
            "_view_count": null,
            "_view_module_version": "1.5.0",
            "box_style": "",
            "layout": "IPY_MODEL_bf462f9c6fee405d89e90a5ee5ce3ace",
            "_model_module": "@jupyter-widgets/controls",
            "children": [
              "IPY_MODEL_50182940fbd54d958adbe7f0d9394254",
              "IPY_MODEL_11156919a1fb489e97a58eb05b712fb7",
              "IPY_MODEL_faf64a26c8dc44d689c4c7cb0cbb5a17"
            ]
          }
        },
        "bf462f9c6fee405d89e90a5ee5ce3ace": {
          "model_module": "@jupyter-widgets/base",
          "model_name": "LayoutModel",
          "model_module_version": "1.2.0",
          "state": {
            "_view_name": "LayoutView",
            "grid_template_rows": null,
            "right": null,
            "justify_content": null,
            "_view_module": "@jupyter-widgets/base",
            "overflow": null,
            "_model_module_version": "1.2.0",
            "_view_count": null,
            "flex_flow": null,
            "width": null,
            "min_width": null,
            "border": null,
            "align_items": null,
            "bottom": null,
            "_model_module": "@jupyter-widgets/base",
            "top": null,
            "grid_column": null,
            "overflow_y": null,
            "overflow_x": null,
            "grid_auto_flow": null,
            "grid_area": null,
            "grid_template_columns": null,
            "flex": null,
            "_model_name": "LayoutModel",
            "justify_items": null,
            "grid_row": null,
            "max_height": null,
            "align_content": null,
            "visibility": null,
            "align_self": null,
            "height": null,
            "min_height": null,
            "padding": null,
            "grid_auto_rows": null,
            "grid_gap": null,
            "max_width": null,
            "order": null,
            "_view_module_version": "1.2.0",
            "grid_template_areas": null,
            "object_position": null,
            "object_fit": null,
            "grid_auto_columns": null,
            "margin": null,
            "display": null,
            "left": null
          }
        },
        "50182940fbd54d958adbe7f0d9394254": {
          "model_module": "@jupyter-widgets/controls",
          "model_name": "HTMLModel",
          "model_module_version": "1.5.0",
          "state": {
            "_view_name": "HTMLView",
            "style": "IPY_MODEL_53cd737cfacb42b2b9ec67d787d06061",
            "_dom_classes": [],
            "description": "",
            "_model_name": "HTMLModel",
            "placeholder": "​",
            "_view_module": "@jupyter-widgets/controls",
            "_model_module_version": "1.5.0",
            "value": "",
            "_view_count": null,
            "_view_module_version": "1.5.0",
            "description_tooltip": null,
            "_model_module": "@jupyter-widgets/controls",
            "layout": "IPY_MODEL_49ed10988bbb453a8f99d7d501cd71cc"
          }
        },
        "11156919a1fb489e97a58eb05b712fb7": {
          "model_module": "@jupyter-widgets/controls",
          "model_name": "FloatProgressModel",
          "model_module_version": "1.5.0",
          "state": {
            "_view_name": "ProgressView",
            "style": "IPY_MODEL_26957c8a9c7a45efb85f9fc39cfa1456",
            "_dom_classes": [],
            "description": "",
            "_model_name": "FloatProgressModel",
            "bar_style": "info",
            "max": 1,
            "_view_module": "@jupyter-widgets/controls",
            "_model_module_version": "1.5.0",
            "value": 1,
            "_view_count": null,
            "_view_module_version": "1.5.0",
            "orientation": "horizontal",
            "min": 0,
            "description_tooltip": null,
            "_model_module": "@jupyter-widgets/controls",
            "layout": "IPY_MODEL_009a644f5bbe444c8d9bd9aa28233d68"
          }
        },
        "faf64a26c8dc44d689c4c7cb0cbb5a17": {
          "model_module": "@jupyter-widgets/controls",
          "model_name": "HTMLModel",
          "model_module_version": "1.5.0",
          "state": {
            "_view_name": "HTMLView",
            "style": "IPY_MODEL_308c56454b224e1e937a111c8f999531",
            "_dom_classes": [],
            "description": "",
            "_model_name": "HTMLModel",
            "placeholder": "​",
            "_view_module": "@jupyter-widgets/controls",
            "_model_module_version": "1.5.0",
            "value": " 972/0 [00:02&lt;00:00, 516.19 examples/s]",
            "_view_count": null,
            "_view_module_version": "1.5.0",
            "description_tooltip": null,
            "_model_module": "@jupyter-widgets/controls",
            "layout": "IPY_MODEL_25d8cb1b0b91472bbc427a87e04044a2"
          }
        },
        "53cd737cfacb42b2b9ec67d787d06061": {
          "model_module": "@jupyter-widgets/controls",
          "model_name": "DescriptionStyleModel",
          "model_module_version": "1.5.0",
          "state": {
            "_view_name": "StyleView",
            "_model_name": "DescriptionStyleModel",
            "description_width": "",
            "_view_module": "@jupyter-widgets/base",
            "_model_module_version": "1.5.0",
            "_view_count": null,
            "_view_module_version": "1.2.0",
            "_model_module": "@jupyter-widgets/controls"
          }
        },
        "49ed10988bbb453a8f99d7d501cd71cc": {
          "model_module": "@jupyter-widgets/base",
          "model_name": "LayoutModel",
          "model_module_version": "1.2.0",
          "state": {
            "_view_name": "LayoutView",
            "grid_template_rows": null,
            "right": null,
            "justify_content": null,
            "_view_module": "@jupyter-widgets/base",
            "overflow": null,
            "_model_module_version": "1.2.0",
            "_view_count": null,
            "flex_flow": null,
            "width": null,
            "min_width": null,
            "border": null,
            "align_items": null,
            "bottom": null,
            "_model_module": "@jupyter-widgets/base",
            "top": null,
            "grid_column": null,
            "overflow_y": null,
            "overflow_x": null,
            "grid_auto_flow": null,
            "grid_area": null,
            "grid_template_columns": null,
            "flex": null,
            "_model_name": "LayoutModel",
            "justify_items": null,
            "grid_row": null,
            "max_height": null,
            "align_content": null,
            "visibility": null,
            "align_self": null,
            "height": null,
            "min_height": null,
            "padding": null,
            "grid_auto_rows": null,
            "grid_gap": null,
            "max_width": null,
            "order": null,
            "_view_module_version": "1.2.0",
            "grid_template_areas": null,
            "object_position": null,
            "object_fit": null,
            "grid_auto_columns": null,
            "margin": null,
            "display": null,
            "left": null
          }
        },
        "26957c8a9c7a45efb85f9fc39cfa1456": {
          "model_module": "@jupyter-widgets/controls",
          "model_name": "ProgressStyleModel",
          "model_module_version": "1.5.0",
          "state": {
            "_view_name": "StyleView",
            "_model_name": "ProgressStyleModel",
            "description_width": "",
            "_view_module": "@jupyter-widgets/base",
            "_model_module_version": "1.5.0",
            "_view_count": null,
            "_view_module_version": "1.2.0",
            "bar_color": null,
            "_model_module": "@jupyter-widgets/controls"
          }
        },
        "009a644f5bbe444c8d9bd9aa28233d68": {
          "model_module": "@jupyter-widgets/base",
          "model_name": "LayoutModel",
          "model_module_version": "1.2.0",
          "state": {
            "_view_name": "LayoutView",
            "grid_template_rows": null,
            "right": null,
            "justify_content": null,
            "_view_module": "@jupyter-widgets/base",
            "overflow": null,
            "_model_module_version": "1.2.0",
            "_view_count": null,
            "flex_flow": null,
            "width": "20px",
            "min_width": null,
            "border": null,
            "align_items": null,
            "bottom": null,
            "_model_module": "@jupyter-widgets/base",
            "top": null,
            "grid_column": null,
            "overflow_y": null,
            "overflow_x": null,
            "grid_auto_flow": null,
            "grid_area": null,
            "grid_template_columns": null,
            "flex": null,
            "_model_name": "LayoutModel",
            "justify_items": null,
            "grid_row": null,
            "max_height": null,
            "align_content": null,
            "visibility": null,
            "align_self": null,
            "height": null,
            "min_height": null,
            "padding": null,
            "grid_auto_rows": null,
            "grid_gap": null,
            "max_width": null,
            "order": null,
            "_view_module_version": "1.2.0",
            "grid_template_areas": null,
            "object_position": null,
            "object_fit": null,
            "grid_auto_columns": null,
            "margin": null,
            "display": null,
            "left": null
          }
        },
        "308c56454b224e1e937a111c8f999531": {
          "model_module": "@jupyter-widgets/controls",
          "model_name": "DescriptionStyleModel",
          "model_module_version": "1.5.0",
          "state": {
            "_view_name": "StyleView",
            "_model_name": "DescriptionStyleModel",
            "description_width": "",
            "_view_module": "@jupyter-widgets/base",
            "_model_module_version": "1.5.0",
            "_view_count": null,
            "_view_module_version": "1.2.0",
            "_model_module": "@jupyter-widgets/controls"
          }
        },
        "25d8cb1b0b91472bbc427a87e04044a2": {
          "model_module": "@jupyter-widgets/base",
          "model_name": "LayoutModel",
          "model_module_version": "1.2.0",
          "state": {
            "_view_name": "LayoutView",
            "grid_template_rows": null,
            "right": null,
            "justify_content": null,
            "_view_module": "@jupyter-widgets/base",
            "overflow": null,
            "_model_module_version": "1.2.0",
            "_view_count": null,
            "flex_flow": null,
            "width": null,
            "min_width": null,
            "border": null,
            "align_items": null,
            "bottom": null,
            "_model_module": "@jupyter-widgets/base",
            "top": null,
            "grid_column": null,
            "overflow_y": null,
            "overflow_x": null,
            "grid_auto_flow": null,
            "grid_area": null,
            "grid_template_columns": null,
            "flex": null,
            "_model_name": "LayoutModel",
            "justify_items": null,
            "grid_row": null,
            "max_height": null,
            "align_content": null,
            "visibility": null,
            "align_self": null,
            "height": null,
            "min_height": null,
            "padding": null,
            "grid_auto_rows": null,
            "grid_gap": null,
            "max_width": null,
            "order": null,
            "_view_module_version": "1.2.0",
            "grid_template_areas": null,
            "object_position": null,
            "object_fit": null,
            "grid_auto_columns": null,
            "margin": null,
            "display": null,
            "left": null
          }
        }
      }
    }
  },
  "cells": [
    {
      "cell_type": "code",
      "metadata": {
        "id": "WbtW6BfB1td1",
        "colab": {
          "base_uri": "https://localhost:8080/"
        },
        "outputId": "3157e7a6-9611-439d-bd17-a42e5d77ca06"
      },
      "source": [
        "!pip install ipython-autotime > /dev/null\n",
        "%load_ext autotime"
      ],
      "execution_count": 1,
      "outputs": [
        {
          "output_type": "stream",
          "name": "stdout",
          "text": [
            "time: 2.13 ms (started: 2021-09-09 14:13:34 +00:00)\n"
          ]
        }
      ]
    },
    {
      "cell_type": "code",
      "metadata": {
        "id": "mnAV5-gRZTEv",
        "colab": {
          "base_uri": "https://localhost:8080/"
        },
        "outputId": "c0369bb7-46bd-475c-d040-86ba608d2c37"
      },
      "source": [
        "!pip install -U datasets > /dev/null\n",
        "!pip install contractions > /dev/null\n",
        "!pip install -U tqdm > /dev/null\n",
        "!pip install fasttext > /dev/null"
      ],
      "execution_count": 2,
      "outputs": [
        {
          "output_type": "stream",
          "name": "stdout",
          "text": [
            "time: 1min (started: 2021-09-09 14:13:34 +00:00)\n"
          ]
        }
      ]
    },
    {
      "cell_type": "code",
      "metadata": {
        "id": "CSi0WIR05tY4",
        "colab": {
          "base_uri": "https://localhost:8080/"
        },
        "outputId": "4379d633-1d31-4a19-d1cc-80ce4c8784b4"
      },
      "source": [
        "import sys\n",
        "sys.path.append(\"drive/MyDrive/Dev/ID_in_CRS\")"
      ],
      "execution_count": 3,
      "outputs": [
        {
          "output_type": "stream",
          "name": "stdout",
          "text": [
            "time: 1.78 ms (started: 2021-09-09 14:14:35 +00:00)\n"
          ]
        }
      ]
    },
    {
      "cell_type": "code",
      "metadata": {
        "id": "4578gLJ_X7NQ",
        "colab": {
          "base_uri": "https://localhost:8080/"
        },
        "outputId": "991c61e3-b966-418c-fa9f-5e7ce52444d5"
      },
      "source": [
        "data_path = \"drive/MyDrive/Datasets/MultiWOZ_2.2_v2\"\n",
        "!mkdir -p {data_path}"
      ],
      "execution_count": 10,
      "outputs": [
        {
          "output_type": "stream",
          "name": "stdout",
          "text": [
            "time: 123 ms (started: 2021-09-09 14:19:27 +00:00)\n"
          ]
        }
      ]
    },
    {
      "cell_type": "code",
      "metadata": {
        "colab": {
          "base_uri": "https://localhost:8080/"
        },
        "id": "o2qKMOJZ6nPJ",
        "outputId": "1302a479-9733-4d2a-b338-575a65f0810e"
      },
      "source": [
        "!git clone https://github.com/budzianowski/multiwoz.git > /dev/null\n",
        "!tail -n +7 multiwoz/db/hospital_db.json > tmp.json && mv tmp.json multiwoz/db/hospital_db.json && rm -rf tmp.json\n",
        "\n",
        "db_path = \"multiwoz/db\"\n",
        "mapping_path = \"multiwoz/utils/mapping.pair\""
      ],
      "execution_count": 11,
      "outputs": [
        {
          "output_type": "stream",
          "name": "stdout",
          "text": [
            "Cloning into 'multiwoz'...\n",
            "remote: Enumerating objects: 480, done.\u001b[K\n",
            "remote: Counting objects: 100% (116/116), done.\u001b[K\n",
            "remote: Compressing objects: 100% (96/96), done.\u001b[K\n",
            "remote: Total 480 (delta 67), reused 36 (delta 20), pack-reused 364\u001b[K\n",
            "Receiving objects: 100% (480/480), 126.33 MiB | 16.57 MiB/s, done.\n",
            "Resolving deltas: 100% (281/281), done.\n",
            "Checking out files: 100% (61/61), done.\n",
            "time: 20.9 s (started: 2021-09-09 14:19:29 +00:00)\n"
          ]
        }
      ]
    },
    {
      "cell_type": "markdown",
      "metadata": {
        "id": "GNPhbu6gQUri"
      },
      "source": [
        "# Prepare Data"
      ]
    },
    {
      "cell_type": "code",
      "metadata": {
        "id": "pbQyobaY8NOp",
        "colab": {
          "base_uri": "https://localhost:8080/"
        },
        "outputId": "f2fa1ee6-cfb2-4990-d787-7aa4588a500d"
      },
      "source": [
        "import os\n",
        "import json\n",
        "import pandas as pd\n",
        "import glob\n",
        "import random\n",
        "import re\n",
        "from tqdm import tqdm\n",
        "from collections import defaultdict\n",
        "import contractions\n",
        "import nltk\n",
        "from nltk.stem.porter import PorterStemmer\n",
        "from nltk.stem import WordNetLemmatizer\n",
        "from nltk.corpus import stopwords"
      ],
      "execution_count": 5,
      "outputs": [
        {
          "output_type": "stream",
          "name": "stdout",
          "text": [
            "time: 1.4 s (started: 2021-09-09 14:14:35 +00:00)\n"
          ]
        }
      ]
    },
    {
      "cell_type": "code",
      "metadata": {
        "colab": {
          "base_uri": "https://localhost:8080/"
        },
        "id": "DFVAbv-hyl6i",
        "outputId": "70ebc560-9872-4c25-c7e4-eb27c0e0df28"
      },
      "source": [
        "nltk.download('stopwords')\n",
        "nltk.download('wordnet')"
      ],
      "execution_count": 7,
      "outputs": [
        {
          "output_type": "stream",
          "name": "stdout",
          "text": [
            "[nltk_data] Downloading package stopwords to /root/nltk_data...\n",
            "[nltk_data]   Unzipping corpora/stopwords.zip.\n",
            "[nltk_data] Downloading package wordnet to /root/nltk_data...\n",
            "[nltk_data]   Unzipping corpora/wordnet.zip.\n"
          ]
        },
        {
          "output_type": "execute_result",
          "data": {
            "text/plain": [
              "True"
            ]
          },
          "metadata": {},
          "execution_count": 7
        },
        {
          "output_type": "stream",
          "name": "stdout",
          "text": [
            "time: 523 ms (started: 2021-09-09 14:15:35 +00:00)\n"
          ]
        }
      ]
    },
    {
      "cell_type": "code",
      "metadata": {
        "colab": {
          "base_uri": "https://localhost:8080/"
        },
        "id": "iCaEES-16sxr",
        "outputId": "cafdf527-940c-4c8d-b0a2-ae8dcb07a9bf"
      },
      "source": [
        "from cleaners.multiwoz import Cleaner\n",
        "\n",
        "cleaner = Cleaner(mapping_path, db_path)"
      ],
      "execution_count": 12,
      "outputs": [
        {
          "output_type": "stream",
          "name": "stdout",
          "text": [
            "time: 652 ms (started: 2021-09-09 14:19:50 +00:00)\n"
          ]
        }
      ]
    },
    {
      "cell_type": "code",
      "metadata": {
        "id": "ii_1gLCdYyE4",
        "colab": {
          "base_uri": "https://localhost:8080/",
          "height": 169,
          "referenced_widgets": [
            "697034324b0e40eaaa5964ffb46fed89",
            "5b6c0df8407b468f92ab3629524d23e3",
            "3d956e0dc2a940cf983f9f05c818e9be",
            "99352481e3b84e1f8f765659ba7411ec",
            "acd1a3a913ad49e8be3e83f14227e2f7",
            "4a9991ef94594f00b76d72d8ff5fb6b9",
            "ca1f35cdb29f48219ca7c9f06b3dca7d",
            "d77af4d202254574a8c4c5442637bf1b",
            "93a5504c90574b62bd5a74a90bf79fc5",
            "b816db3e630a45ca956c412aeb6666e2",
            "2c042df53c3145c18a33dddb0cfa57de",
            "6493e3831de94605890b702c024d4f9b",
            "1fdda156009b4eacbf25c61681192050",
            "9889986aedcd450ca2a509ae09b783ad",
            "30857530e385497fbb4e806597c2f0d6",
            "14323a1073564779b8a52fc575b2c424",
            "3a6a60f6990045fa84a07c52cb62f779",
            "517233899bf14d268aa103df96fd8323",
            "b27c214576e84483bb2054027dabe035",
            "8cb3df3349f14a38bc77ef6a685dd42c",
            "c557ae3e3ffa46d282f1b7b70c7dd209",
            "bf7cf7fd26f04fe981b6872f58c80865",
            "016f302297e84d77a833b934855f30d0",
            "1edb187cb8524d5d969f328c7b59944b",
            "bfe50003b8704672bf203f77f297fb2b",
            "d716c91cedb64037918a365324af0b0a",
            "ea759833fe6742eda988f17cb66b66e4",
            "1fc9c4ba461e448e8d55825a895a4ddc",
            "75dbe5417e124fcdae82249e37d90aa7",
            "1d0560006a7346c7be18c2cc54691365",
            "32bc769991c74ab28c734c1d1c9f8974",
            "3a29f6b8b39244008f4741a3030276cd",
            "45fc60dd3f1040acacd9d7b630a6062c",
            "4b1e35eee24c4dd58b5286d28ec80020",
            "2fef08f8164942eda3461d18dbcb215a",
            "8240934fb6094d408d9d7604415c70f6",
            "5aae419104384720ad59e4f6c0820cf2",
            "a1a3cac1a7274adea5b7bb2d68563fe7",
            "5f24c1753ceb4f0f9dae3aa97c9515a1",
            "ac96173145ed4d5cbfe810aab04f680b",
            "8b9113a3a9b34f2992638d65782828d5",
            "a9c02ab555204e84b5384b6293c6ce77",
            "288e158c6f884c1eaa9b9c2d68751abe",
            "1ef9fc816eaf4d64aa236e85ba0812c4",
            "c7f245a4bdd34dcba9763acc204d1743",
            "bf462f9c6fee405d89e90a5ee5ce3ace",
            "50182940fbd54d958adbe7f0d9394254",
            "11156919a1fb489e97a58eb05b712fb7",
            "faf64a26c8dc44d689c4c7cb0cbb5a17",
            "53cd737cfacb42b2b9ec67d787d06061",
            "49ed10988bbb453a8f99d7d501cd71cc",
            "26957c8a9c7a45efb85f9fc39cfa1456",
            "009a644f5bbe444c8d9bd9aa28233d68",
            "308c56454b224e1e937a111c8f999531",
            "25d8cb1b0b91472bbc427a87e04044a2"
          ]
        },
        "outputId": "11501479-b811-453e-d9bb-efa6277bc0e1"
      },
      "source": [
        "from datasets import load_dataset\n",
        "\n",
        "dataset = load_dataset(\"multi_woz_v22\", ignore_verifications=True)"
      ],
      "execution_count": 13,
      "outputs": [
        {
          "output_type": "display_data",
          "data": {
            "application/vnd.jupyter.widget-view+json": {
              "model_id": "697034324b0e40eaaa5964ffb46fed89",
              "version_minor": 0,
              "version_major": 2
            },
            "text/plain": [
              "Downloading:   0%|          | 0.00/3.10k [00:00<?, ?B/s]"
            ]
          },
          "metadata": {}
        },
        {
          "output_type": "display_data",
          "data": {
            "application/vnd.jupyter.widget-view+json": {
              "model_id": "6493e3831de94605890b702c024d4f9b",
              "version_minor": 0,
              "version_major": 2
            },
            "text/plain": [
              "Downloading:   0%|          | 0.00/2.77k [00:00<?, ?B/s]"
            ]
          },
          "metadata": {}
        },
        {
          "output_type": "stream",
          "name": "stderr",
          "text": [
            "No config specified, defaulting to: multi_woz_v22/v2.2_active_only\n"
          ]
        },
        {
          "output_type": "stream",
          "name": "stdout",
          "text": [
            "Downloading and preparing dataset multi_woz_v22/v2.2_active_only (download: 263.97 MiB, generated: 49.24 MiB, post-processed: Unknown size, total: 313.21 MiB) to /root/.cache/huggingface/datasets/multi_woz_v22/v2.2_active_only/2.2.0/7452f16a8b502e97df5c04cc4ee5436464762fa93b1ce778dd14181e79d8b51a...\n"
          ]
        },
        {
          "output_type": "display_data",
          "data": {
            "application/vnd.jupyter.widget-view+json": {
              "model_id": "016f302297e84d77a833b934855f30d0",
              "version_minor": 0,
              "version_major": 2
            },
            "text/plain": [
              "0 examples [00:00, ? examples/s]"
            ]
          },
          "metadata": {}
        },
        {
          "output_type": "display_data",
          "data": {
            "application/vnd.jupyter.widget-view+json": {
              "model_id": "4b1e35eee24c4dd58b5286d28ec80020",
              "version_minor": 0,
              "version_major": 2
            },
            "text/plain": [
              "0 examples [00:00, ? examples/s]"
            ]
          },
          "metadata": {}
        },
        {
          "output_type": "display_data",
          "data": {
            "application/vnd.jupyter.widget-view+json": {
              "model_id": "c7f245a4bdd34dcba9763acc204d1743",
              "version_minor": 0,
              "version_major": 2
            },
            "text/plain": [
              "0 examples [00:00, ? examples/s]"
            ]
          },
          "metadata": {}
        },
        {
          "output_type": "stream",
          "name": "stdout",
          "text": [
            "Dataset multi_woz_v22 downloaded and prepared to /root/.cache/huggingface/datasets/multi_woz_v22/v2.2_active_only/2.2.0/7452f16a8b502e97df5c04cc4ee5436464762fa93b1ce778dd14181e79d8b51a. Subsequent calls will reuse this data.\n",
            "time: 37.9 s (started: 2021-09-09 14:19:57 +00:00)\n"
          ]
        }
      ]
    },
    {
      "cell_type": "code",
      "metadata": {
        "id": "d2OgIC_4th1e",
        "colab": {
          "base_uri": "https://localhost:8080/"
        },
        "outputId": "91f9afd8-b98c-468e-8160-e20fa179442e"
      },
      "source": [
        "def parse_data(tvt):\n",
        "#     filtered_domains = set([\"bus\", \"police\", \"hospital\"])\n",
        "    filtered_domains = set()\n",
        "\n",
        "    cleaned_dialogues = {}\n",
        "    for dialogue in tqdm(dataset[tvt]):\n",
        "        dialogue_id = dialogue[\"dialogue_id\"]\n",
        "        turns = dialogue[\"turns\"]\n",
        "        cleaned_turns = []\n",
        "        for speaker, utterance, frames, dialogue_acts in zip(turns[\"speaker\"], turns[\"utterance\"], turns[\"frames\"], turns[\"dialogue_acts\"]):\n",
        "            if speaker == 1:\n",
        "                continue\n",
        "\n",
        "            domains, intents = [], []\n",
        "            for service, state in zip(frames[\"service\"], frames[\"state\"]):\n",
        "                if state[\"active_intent\"] != \"NONE\":\n",
        "                    domains.append(service)\n",
        "                    intents.append(state[\"active_intent\"])\n",
        "\n",
        "            if filtered_domains.intersection(domains):\n",
        "                continue\n",
        "\n",
        "            slot_positions = sorted(list(zip(dialogue_acts[\"span_info\"][\"span_start\"], dialogue_acts[\"span_info\"][\"span_end\"])))\n",
        "            slot_names0, slot_names1, slot_values = [], [], []\n",
        "            for idx1, pos in enumerate(slot_positions):\n",
        "                si, ei = pos\n",
        "                slot_value = cleaner.clean(utterance[si: ei])\n",
        "                slot_value = cleaner.tokenize(slot_value)\n",
        "                slot_name0 = dialogue_acts[\"span_info\"][\"act_slot_name\"][idx1]\n",
        "                slot_type = dialogue_acts[\"span_info\"][\"act_type\"][idx1].split('-')[0].lower()\n",
        "                # slot_type = slot_type if slot_type != \"booking\" else domains[0]\n",
        "\n",
        "                for idx2, word_slot_value in enumerate(slot_value):\n",
        "                    slot_values.append(word_slot_value)\n",
        "                    slot_names0.append(f\"{'I' if idx2 else 'B'}-{slot_name0}\")\n",
        "                    slot_names1.append(f\"{'I' if idx2 else 'B'}-{slot_type}_{slot_name0}\")\n",
        "                    # slot_names0.append(slot_name0)\n",
        "                    # slot_names1.append(f\"{slot_type}_{slot_name0}\")\n",
        "\n",
        "            text = cleaner.clean(utterance)\n",
        "            words = cleaner.tokenize(text)\n",
        "\n",
        "            slots0 = []\n",
        "            slots1 = []\n",
        "            idx = 0\n",
        "            for word in words:\n",
        "                if idx < len(slot_values) and word == slot_values[idx]:\n",
        "                    slots0.append(slot_names0[idx])\n",
        "                    slots1.append(slot_names1[idx])\n",
        "                    idx += 1\n",
        "                else:\n",
        "                    slots0.append(\"O\")\n",
        "                    slots1.append(\"O\")\n",
        "\n",
        "            if idx != len(slot_values):\n",
        "                continue\n",
        "\n",
        "            cleaned_turns.append({\n",
        "                \"speaker\": speaker,\n",
        "                \"words\": words,\n",
        "                \"slots0\": slots0,\n",
        "                \"slots1\": slots1,  # TODO: check and revise\n",
        "                \"domains\": domains,\n",
        "                \"intents\": intents\n",
        "            })\n",
        "\n",
        "        cleaned_dialogues[dialogue_id] = cleaned_turns\n",
        "\n",
        "    return cleaned_dialogues\n",
        "\n",
        "\n",
        "train_data = parse_data(\"train\")\n",
        "val_data = parse_data(\"validation\")\n",
        "test_data = parse_data(\"test\")"
      ],
      "execution_count": 15,
      "outputs": [
        {
          "output_type": "stream",
          "name": "stderr",
          "text": [
            "100%|██████████| 8437/8437 [13:47<00:00, 10.19it/s]\n",
            "100%|██████████| 1000/1000 [01:51<00:00,  8.97it/s]\n",
            "100%|██████████| 1000/1000 [01:51<00:00,  8.98it/s]"
          ]
        },
        {
          "output_type": "stream",
          "name": "stdout",
          "text": [
            "time: 17min 30s (started: 2021-09-09 14:23:05 +00:00)\n"
          ]
        },
        {
          "output_type": "stream",
          "name": "stderr",
          "text": [
            "\n"
          ]
        }
      ]
    },
    {
      "cell_type": "code",
      "metadata": {
        "id": "LcOskA91bNnQ",
        "colab": {
          "base_uri": "https://localhost:8080/"
        },
        "outputId": "42c61d81-9e3b-40bf-99d9-bd6bc8d2fec5"
      },
      "source": [
        "with open(f\"{data_path}/train.json\", \"w\") as json_file:\n",
        "    json.dump(train_data, json_file)\n",
        "with open(f\"{data_path}/validation.json\", \"w\") as json_file:\n",
        "    json.dump(val_data, json_file)\n",
        "with open(f\"{data_path}/test.json\", \"w\") as json_file:\n",
        "    json.dump(test_data, json_file)"
      ],
      "execution_count": 16,
      "outputs": [
        {
          "output_type": "stream",
          "name": "stdout",
          "text": [
            "time: 5.35 s (started: 2021-09-09 14:43:08 +00:00)\n"
          ]
        }
      ]
    },
    {
      "cell_type": "code",
      "metadata": {
        "colab": {
          "base_uri": "https://localhost:8080/"
        },
        "id": "M-gXp7GB-laA",
        "outputId": "65ff7e06-54f7-4388-83de-6b40faa8de8c"
      },
      "source": [
        "import gc\n",
        "\n",
        "del dataset\n",
        "gc.collect()"
      ],
      "execution_count": 17,
      "outputs": [
        {
          "output_type": "execute_result",
          "data": {
            "text/plain": [
              "618"
            ]
          },
          "metadata": {},
          "execution_count": 17
        },
        {
          "output_type": "stream",
          "name": "stdout",
          "text": [
            "time: 385 ms (started: 2021-09-09 14:43:14 +00:00)\n"
          ]
        }
      ]
    },
    {
      "cell_type": "markdown",
      "metadata": {
        "id": "M1fXDo2DHWS4"
      },
      "source": [
        "# UNK Words"
      ]
    },
    {
      "cell_type": "code",
      "metadata": {
        "colab": {
          "base_uri": "https://localhost:8080/"
        },
        "id": "JsK379xRHbSX",
        "outputId": "7c9d1b8f-79a8-4098-ab37-71896075ed2a"
      },
      "source": [
        "from collections import defaultdict\n",
        "\n",
        "with open(f\"{data_path}/train.json\", \"r\") as json_file:\n",
        "    data = json.load(json_file)\n",
        "\n",
        "words_count = defaultdict(int)\n",
        "for id, dialogue in data.items():\n",
        "    for turn in dialogue:\n",
        "        for word in turn[\"words\"]:\n",
        "            words_count[word] += 1\n",
        "\n",
        "rare_words = set(word for word, freq in words_count.items() if freq < 3)\n",
        "\n",
        "for tvt in [\"train\", \"validation\", \"test\"]:\n",
        "    with open(f\"{data_path}/{tvt}.json\", \"r\") as json_file:\n",
        "        data = json.load(json_file)\n",
        "\n",
        "    for id, dialogue in data.items():\n",
        "        for turn in dialogue:\n",
        "            if rare_words.intersection(turn[\"words\"]):\n",
        "                for idx, word in enumerate(turn[\"words\"]):\n",
        "                    if word in rare_words:\n",
        "                        turn[\"words\"][idx] = \"UNK\"\n",
        "\n",
        "    with open(f\"{data_path}/{tvt}.json\", \"w\") as json_file:\n",
        "        json.dump(data, json_file)"
      ],
      "execution_count": 18,
      "outputs": [
        {
          "output_type": "stream",
          "name": "stdout",
          "text": [
            "time: 5.85 s (started: 2021-09-09 14:43:14 +00:00)\n"
          ]
        }
      ]
    },
    {
      "cell_type": "markdown",
      "metadata": {
        "id": "8hEbEatv9nco"
      },
      "source": [
        "# Label Refinement"
      ]
    },
    {
      "cell_type": "code",
      "metadata": {
        "id": "QtNuNcUYMCVS"
      },
      "source": [
        "# import math\n",
        "# import os\n",
        "# import json\n",
        "# from sklearn.pipeline import make_pipeline\n",
        "# from sklearn.feature_extraction.text import TfidfVectorizer\n",
        "# from sklearn.metrics import classification_report, confusion_matrix\n",
        "# import fasttext\n",
        "# from collections import defaultdict"
      ],
      "execution_count": null,
      "outputs": []
    },
    {
      "cell_type": "code",
      "metadata": {
        "id": "CoQPFkRmbTt2"
      },
      "source": [
        "# with open(f\"{data_path}/train.json\", \"r\") as json_file:\n",
        "#     train_data = json.load(json_file)\n",
        "# with open(f\"{data_path}/validation.json\", \"r\") as json_file:\n",
        "#     val_data = json.load(json_file)\n",
        "# with open(f\"{data_path}/test.json\", \"r\") as json_file:\n",
        "#     test_data = json.load(json_file)"
      ],
      "execution_count": null,
      "outputs": []
    },
    {
      "cell_type": "code",
      "metadata": {
        "id": "bXOLvdlBtzLw"
      },
      "source": [
        "# def read_data(data):\n",
        "#     X, y = [], []\n",
        "\n",
        "#     for id, dlg in data.items():\n",
        "#         for trn in dlg:\n",
        "#             X.append(\" \".join(trn[\"words\"]))\n",
        "            \n",
        "#             if len(trn[\"domains\"]):\n",
        "#                 y.append(1)\n",
        "#             else:\n",
        "#                 y.append(0)\n",
        "\n",
        "#     return X, y\n",
        "\n",
        "# X_train, y_train = read_data(train_data)\n",
        "# X_val, y_val = read_data(val_data)\n",
        "# X_test, y_test = read_data(test_data)"
      ],
      "execution_count": null,
      "outputs": []
    },
    {
      "cell_type": "code",
      "metadata": {
        "colab": {
          "base_uri": "https://localhost:8080/"
        },
        "id": "CtIbdi8X1ibm",
        "outputId": "2915348f-6668-42fc-9c9b-1e5e4804076b"
      },
      "source": [
        "# print(len(y_train), len(y_val), len(y_test))"
      ],
      "execution_count": null,
      "outputs": [
        {
          "output_type": "stream",
          "text": [
            "107347 13928 13931\n"
          ],
          "name": "stdout"
        }
      ]
    },
    {
      "cell_type": "code",
      "metadata": {
        "id": "VQchThbnlqeH"
      },
      "source": [
        "# def prepare_fasttext_file(filename, X, Y):\n",
        "#     with open(f\"{filename}.txt\", \"w\") as txt_file:\n",
        "#         for x, y in zip(X, Y):\n",
        "#             txt_file.write(f\"__label__{y} {x}\\n\")\n",
        "\n",
        "# prepare_fasttext_file(\"train\", X_train, y_train)\n",
        "# prepare_fasttext_file(\"val\", X_val, y_val)\n",
        "# prepare_fasttext_file(\"test\", X_test, y_test)"
      ],
      "execution_count": null,
      "outputs": []
    },
    {
      "cell_type": "code",
      "metadata": {
        "colab": {
          "base_uri": "https://localhost:8080/"
        },
        "id": "pq6r187k6zwN",
        "outputId": "4d347058-f0ed-45af-b142-1be1ca87d756"
      },
      "source": [
        "# import gc\n",
        "\n",
        "# run_flag = False\n",
        "# model_path = \"drive/MyDrive/Development/ID_in_CRS/label_model.bin\"\n",
        "\n",
        "# if run_flag or not os.path.exists(model_path):\n",
        "#     for rnd in range(6):\n",
        "#         print(f\"ROUND {rnd + 1}\")\n",
        "\n",
        "#         model = fasttext.train_supervised(\n",
        "#             input=\"train.txt\",\n",
        "#             autotuneValidationFile=\"val.txt\",\n",
        "#             epoch=5\n",
        "#         )\n",
        "\n",
        "#         preds, _ = model.predict(X_test)\n",
        "#         preds = [int(pred_label[0][-1]) for pred_label in preds]\n",
        "#         print(classification_report(y_test, preds, digits=4))\n",
        "#         print(confusion_matrix(y_test, preds))\n",
        "#         print(\"#\" * 100)\n",
        "\n",
        "#         num_changes = 0\n",
        "#         # for X_list, y_list in [(X_train, y_train), (X_val, y_val), (X_test, y_test)]:\n",
        "#         for X_list, y_list in [(X_train, y_train)]:\n",
        "#             preds, probs = model.predict(X_list)\n",
        "#             preds = [int(pred_label[0][-1]) for pred_label in preds]\n",
        "#             probs = [prob[0] for prob in probs]\n",
        "\n",
        "#             for idx in range(len(y_list)):\n",
        "#                 if y_list[idx] != preds[idx] and probs[idx] > (1 - (0.15 / math.log2(rnd + 2))):\n",
        "#                     y_list[idx] = preds[idx]\n",
        "#                     num_changes += 1  \n",
        "\n",
        "#         prepare_fasttext_file(\"train\", X_train, y_train)\n",
        "#         # prepare_fasttext_file(\"val\", X_val, y_val)\n",
        "#         # prepare_fasttext_file(\"test\", X_test, y_test)\n",
        "#         model.save_model(model_path)\n",
        "\n",
        "#         del model\n",
        "#         gc.collect()\n",
        "\n",
        "#         if num_changes == 0:\n",
        "#             break\n",
        "# else:\n",
        "#     model = fasttext.load_model(model_path)\n",
        "\n",
        "#     preds, _ = model.predict(X_test)\n",
        "#     preds = [int(pred_label[0][-1]) for pred_label in preds]\n",
        "#     print(classification_report(y_test, preds, digits=4))\n",
        "#     print(confusion_matrix(y_test, preds))\n",
        "\n",
        "#     # for X_list, y_list in [(X_train, y_train), (X_val, y_val), (X_test, y_test)]:\n",
        "#     for X_list, y_list in [(X_train, y_train)]:\n",
        "#         preds, probs = model.predict(X_list)\n",
        "#         preds = [int(pred_label[0][-1]) for pred_label in preds]\n",
        "#         probs = [prob[0] for prob in probs]\n",
        "\n",
        "#         for idx in range(len(y_list)):\n",
        "#             if y_list[idx] == 1 and preds[idx] == 0 and probs[idx] > 0.95:\n",
        "#                 y_list[idx] = 0\n",
        "#             if y_list[idx] == 0 and preds[idx] == 1 and probs[idx] > 0.95:\n",
        "#                 y_list[idx] = 1\n",
        "\n",
        "#     prepare_fasttext_file(\"train\", X_train, y_train)\n",
        "#     # prepare_fasttext_file(\"val\", X_val, y_val)\n",
        "#     # prepare_fasttext_file(\"test\", X_test, y_test)"
      ],
      "execution_count": null,
      "outputs": [
        {
          "output_type": "stream",
          "text": [
            "Warning : `load_model` does not return WordVectorModel or SupervisedModel any more, but a `FastText` object which is very similar.\n"
          ],
          "name": "stderr"
        },
        {
          "output_type": "stream",
          "text": [
            "              precision    recall  f1-score   support\n",
            "\n",
            "           0     0.9765    0.9858    0.9811      7875\n",
            "           1     0.9815    0.9694    0.9754      6118\n",
            "\n",
            "    accuracy                         0.9786     13993\n",
            "   macro avg     0.9790    0.9776    0.9783     13993\n",
            "weighted avg     0.9787    0.9786    0.9786     13993\n",
            "\n",
            "[[7763  112]\n",
            " [ 187 5931]]\n"
          ],
          "name": "stdout"
        }
      ]
    },
    {
      "cell_type": "code",
      "metadata": {
        "id": "8QVZm3MQ71qp",
        "colab": {
          "base_uri": "https://localhost:8080/"
        },
        "outputId": "fc61d63c-fb83-4701-ad8a-b5d6a3c76a90"
      },
      "source": [
        "# refined_train_data, refined_val_data, refined_test_data = defaultdict(list), defaultdict(list), defaultdict(list)\n",
        "# for data, y_list, refined_data in zip([train_data, val_data, test_data], [y_train, y_val, y_test], [refined_train_data, refined_val_data, refined_test_data]):\n",
        "#     idx = 0\n",
        "#     num_turns = 0\n",
        "#     for id, dlg in data.items():\n",
        "#         for trn in dlg:\n",
        "#             if (len(trn[\"intents\"]) and y_list[idx] == 1) or (len(trn[\"intents\"]) == 0 and y_list[idx] == 0):\n",
        "#                 refined_data[id].append(trn)\n",
        "#                 num_turns += 1\n",
        "#             idx += 1\n",
        "#     print(num_turns)    \n",
        "\n",
        "# train_data = refined_train_data\n",
        "# # val_data = refined_val_data\n",
        "# # test_data = refined_test_data\n",
        "\n",
        "# del refined_train_data\n",
        "# del refined_val_data\n",
        "# del refined_test_data"
      ],
      "execution_count": null,
      "outputs": [
        {
          "output_type": "stream",
          "text": [
            "107636\n",
            "14012\n",
            "13993\n"
          ],
          "name": "stdout"
        }
      ]
    },
    {
      "cell_type": "code",
      "metadata": {
        "id": "8Tx_LjcbC7dz",
        "colab": {
          "base_uri": "https://localhost:8080/"
        },
        "outputId": "36a0a39c-b2de-4990-8d19-296c414366ab"
      },
      "source": [
        "# import gc\n",
        "# gc.collect()"
      ],
      "execution_count": null,
      "outputs": [
        {
          "output_type": "execute_result",
          "data": {
            "text/plain": [
              "50"
            ]
          },
          "metadata": {},
          "execution_count": 31
        }
      ]
    },
    {
      "cell_type": "markdown",
      "metadata": {
        "id": "IyXsxWXp_72t"
      },
      "source": [
        "# Save Data"
      ]
    },
    {
      "cell_type": "code",
      "metadata": {
        "colab": {
          "base_uri": "https://localhost:8080/"
        },
        "id": "hxxeyP46pknt",
        "outputId": "b57f051f-1e5d-4166-a855-f8015efa68bd"
      },
      "source": [
        "# import json\n",
        "\n",
        "# with open(f\"{data_path}/train.json\", \"r\") as json_file:\n",
        "#     train_data = json.load(json_file)\n",
        "# with open(f\"{data_path}/validation.json\", \"r\") as json_file:\n",
        "#     val_data = json.load(json_file)\n",
        "# with open(f\"{data_path}/test.json\", \"r\") as json_file:\n",
        "#     test_data = json.load(json_file)"
      ],
      "execution_count": 55,
      "outputs": [
        {
          "output_type": "stream",
          "name": "stdout",
          "text": [
            "time: 2.29 s (started: 2021-09-09 11:17:04 +00:00)\n"
          ]
        }
      ]
    },
    {
      "cell_type": "code",
      "metadata": {
        "id": "BWFKQ8XkJbWd",
        "colab": {
          "base_uri": "https://localhost:8080/"
        },
        "outputId": "e5e78531-2ae7-49f5-e5b3-bcb87ce92e51"
      },
      "source": [
        "all_words, all_domains, all_intents, all_slots0, all_slots1 = set(), set(), set(), set(), set()\n",
        "for id, dlg in train_data.items():\n",
        "    for trn in dlg:\n",
        "        all_words.update(trn[\"words\"])\n",
        "        all_domains.update(trn[\"domains\"])\n",
        "        all_intents.update(trn[\"intents\"])\n",
        "        all_slots0.update(trn[\"slots0\"])\n",
        "        all_slots1.update(trn[\"slots1\"])\n",
        "\n",
        "print(len(all_words))\n",
        "\n",
        "with open(f\"{data_path}/words.json\", \"w\") as json_file:\n",
        "    json.dump(sorted(all_words), json_file)\n",
        "with open(f\"{data_path}/domains.json\", \"w\") as json_file:\n",
        "    json.dump(sorted(all_domains), json_file)\n",
        "with open(f\"{data_path}/intents.json\", \"w\") as json_file:\n",
        "    json.dump(sorted(all_intents), json_file)\n",
        "with open(f\"{data_path}/slots0.json\", \"w\") as json_file:\n",
        "    json.dump(sorted(all_slots0), json_file)\n",
        "with open(f\"{data_path}/slots1.json\", \"w\") as json_file:\n",
        "    json.dump(sorted(all_slots1), json_file)\n",
        "\n",
        "with open(f\"{data_path}/train.json\", \"w\") as json_file:\n",
        "    json.dump(train_data, json_file)\n",
        "with open(f\"{data_path}/validation.json\", \"w\") as json_file:\n",
        "    json.dump(val_data, json_file)\n",
        "with open(f\"{data_path}/test.json\", \"w\") as json_file:\n",
        "    json.dump(test_data, json_file)"
      ],
      "execution_count": 19,
      "outputs": [
        {
          "output_type": "stream",
          "name": "stdout",
          "text": [
            "3085\n",
            "time: 5.4 s (started: 2021-09-09 14:43:20 +00:00)\n"
          ]
        }
      ]
    },
    {
      "cell_type": "markdown",
      "metadata": {
        "id": "CHP14rnx8nL9"
      },
      "source": [
        "# Format to txt"
      ]
    },
    {
      "cell_type": "code",
      "metadata": {
        "id": "_LT6JuzQNJ5R"
      },
      "source": [
        "import json\n",
        "import random"
      ],
      "execution_count": null,
      "outputs": []
    },
    {
      "cell_type": "code",
      "metadata": {
        "id": "wRnaAOwBKt75"
      },
      "source": [
        "intent_label = \"intents\"\n",
        "slot_label = \"slots1\"\n",
        "\n",
        "for src_name, dst_name in zip([\"train\", \"validation\", \"test\"], [\"train\", \"dev\", \"test\"]):\n",
        "    idx = 0\n",
        "\n",
        "    with open(f\"{data_path}/{src_name}.json\", \"r\") as json_file:\n",
        "        data = json.load(json_file)\n",
        "\n",
        "    all_lines = []\n",
        "    for id, dialogue in data.items():\n",
        "        for turn in dialogue:\n",
        "            if turn[\"speaker\"] == 1:\n",
        "                continue\n",
        "\n",
        "            turn_lines = [f\"{word} {slot}\\n\" for word, slot in zip(turn[\"words\"], turn[slot_label])]\n",
        "            if len(turn[intent_label]) == 1:\n",
        "                turn_lines.append(f\"{turn[intent_label][0]}\\n\")\n",
        "                turn_lines.append(\"\\n\")\n",
        "                all_lines.extend(turn_lines)\n",
        "            elif len(turn[intent_label]) == 0:\n",
        "                turn_lines.append(f\"general\\n\")\n",
        "                turn_lines.append(\"\\n\")\n",
        "                all_lines.extend(turn_lines)\n",
        "\n",
        "    with open(f\"{data_path}/{dst_name}.txt\", \"w\") as txt_file:\n",
        "        txt_file.writelines(all_lines)"
      ],
      "execution_count": null,
      "outputs": []
    },
    {
      "cell_type": "code",
      "metadata": {
        "id": "dKJuniujhNxI"
      },
      "source": [
        ""
      ],
      "execution_count": null,
      "outputs": []
    }
  ]
}