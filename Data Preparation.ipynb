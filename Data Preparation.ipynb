{
  "nbformat": 4,
  "nbformat_minor": 0,
  "metadata": {
    "colab": {
      "name": "Data Preparation.ipynb",
      "provenance": [],
      "collapsed_sections": []
    },
    "kernelspec": {
      "name": "python3",
      "display_name": "Python 3"
    },
    "language_info": {
      "name": "python"
    },
    "widgets": {
      "application/vnd.jupyter.widget-state+json": {
        "8b84aca4b91e494ab901ddd588b01e0f": {
          "model_module": "@jupyter-widgets/controls",
          "model_name": "HBoxModel",
          "model_module_version": "1.5.0",
          "state": {
            "_view_name": "HBoxView",
            "_dom_classes": [],
            "_model_name": "HBoxModel",
            "_view_module": "@jupyter-widgets/controls",
            "_model_module_version": "1.5.0",
            "_view_count": null,
            "_view_module_version": "1.5.0",
            "box_style": "",
            "layout": "IPY_MODEL_d387c052997d4479b5008193d320246b",
            "_model_module": "@jupyter-widgets/controls",
            "children": [
              "IPY_MODEL_8ecae59303f24ba2b2413210bf4dc665",
              "IPY_MODEL_49e2f0dc38e642f09f54023cf1b2d413",
              "IPY_MODEL_13277d577d6d44f092c5b8f9b1af4ddd"
            ]
          }
        },
        "d387c052997d4479b5008193d320246b": {
          "model_module": "@jupyter-widgets/base",
          "model_name": "LayoutModel",
          "model_module_version": "1.2.0",
          "state": {
            "_view_name": "LayoutView",
            "grid_template_rows": null,
            "right": null,
            "justify_content": null,
            "_view_module": "@jupyter-widgets/base",
            "overflow": null,
            "_model_module_version": "1.2.0",
            "_view_count": null,
            "flex_flow": null,
            "width": null,
            "min_width": null,
            "border": null,
            "align_items": null,
            "bottom": null,
            "_model_module": "@jupyter-widgets/base",
            "top": null,
            "grid_column": null,
            "overflow_y": null,
            "overflow_x": null,
            "grid_auto_flow": null,
            "grid_area": null,
            "grid_template_columns": null,
            "flex": null,
            "_model_name": "LayoutModel",
            "justify_items": null,
            "grid_row": null,
            "max_height": null,
            "align_content": null,
            "visibility": null,
            "align_self": null,
            "height": null,
            "min_height": null,
            "padding": null,
            "grid_auto_rows": null,
            "grid_gap": null,
            "max_width": null,
            "order": null,
            "_view_module_version": "1.2.0",
            "grid_template_areas": null,
            "object_position": null,
            "object_fit": null,
            "grid_auto_columns": null,
            "margin": null,
            "display": null,
            "left": null
          }
        },
        "8ecae59303f24ba2b2413210bf4dc665": {
          "model_module": "@jupyter-widgets/controls",
          "model_name": "HTMLModel",
          "model_module_version": "1.5.0",
          "state": {
            "_view_name": "HTMLView",
            "style": "IPY_MODEL_8de5d7c21f7344cb8eb7ba8c04cc0d33",
            "_dom_classes": [],
            "description": "",
            "_model_name": "HTMLModel",
            "placeholder": "​",
            "_view_module": "@jupyter-widgets/controls",
            "_model_module_version": "1.5.0",
            "value": "Downloading: ",
            "_view_count": null,
            "_view_module_version": "1.5.0",
            "description_tooltip": null,
            "_model_module": "@jupyter-widgets/controls",
            "layout": "IPY_MODEL_78d2ca3668a5455c8f49d250ac936007"
          }
        },
        "49e2f0dc38e642f09f54023cf1b2d413": {
          "model_module": "@jupyter-widgets/controls",
          "model_name": "FloatProgressModel",
          "model_module_version": "1.5.0",
          "state": {
            "_view_name": "ProgressView",
            "style": "IPY_MODEL_4e0bb00063314e3ba02ccae16ebc87dc",
            "_dom_classes": [],
            "description": "",
            "_model_name": "FloatProgressModel",
            "bar_style": "success",
            "max": 3096,
            "_view_module": "@jupyter-widgets/controls",
            "_model_module_version": "1.5.0",
            "value": 3096,
            "_view_count": null,
            "_view_module_version": "1.5.0",
            "orientation": "horizontal",
            "min": 0,
            "description_tooltip": null,
            "_model_module": "@jupyter-widgets/controls",
            "layout": "IPY_MODEL_6b6d0101f1f8439ca3169a0e028029c2"
          }
        },
        "13277d577d6d44f092c5b8f9b1af4ddd": {
          "model_module": "@jupyter-widgets/controls",
          "model_name": "HTMLModel",
          "model_module_version": "1.5.0",
          "state": {
            "_view_name": "HTMLView",
            "style": "IPY_MODEL_032f4e1fe907460f9028e014d9ea1512",
            "_dom_classes": [],
            "description": "",
            "_model_name": "HTMLModel",
            "placeholder": "​",
            "_view_module": "@jupyter-widgets/controls",
            "_model_module_version": "1.5.0",
            "value": " 13.1k/? [00:00&lt;00:00, 235kB/s]",
            "_view_count": null,
            "_view_module_version": "1.5.0",
            "description_tooltip": null,
            "_model_module": "@jupyter-widgets/controls",
            "layout": "IPY_MODEL_beef857901984019bae5990d46f07ca8"
          }
        },
        "8de5d7c21f7344cb8eb7ba8c04cc0d33": {
          "model_module": "@jupyter-widgets/controls",
          "model_name": "DescriptionStyleModel",
          "model_module_version": "1.5.0",
          "state": {
            "_view_name": "StyleView",
            "_model_name": "DescriptionStyleModel",
            "description_width": "",
            "_view_module": "@jupyter-widgets/base",
            "_model_module_version": "1.5.0",
            "_view_count": null,
            "_view_module_version": "1.2.0",
            "_model_module": "@jupyter-widgets/controls"
          }
        },
        "78d2ca3668a5455c8f49d250ac936007": {
          "model_module": "@jupyter-widgets/base",
          "model_name": "LayoutModel",
          "model_module_version": "1.2.0",
          "state": {
            "_view_name": "LayoutView",
            "grid_template_rows": null,
            "right": null,
            "justify_content": null,
            "_view_module": "@jupyter-widgets/base",
            "overflow": null,
            "_model_module_version": "1.2.0",
            "_view_count": null,
            "flex_flow": null,
            "width": null,
            "min_width": null,
            "border": null,
            "align_items": null,
            "bottom": null,
            "_model_module": "@jupyter-widgets/base",
            "top": null,
            "grid_column": null,
            "overflow_y": null,
            "overflow_x": null,
            "grid_auto_flow": null,
            "grid_area": null,
            "grid_template_columns": null,
            "flex": null,
            "_model_name": "LayoutModel",
            "justify_items": null,
            "grid_row": null,
            "max_height": null,
            "align_content": null,
            "visibility": null,
            "align_self": null,
            "height": null,
            "min_height": null,
            "padding": null,
            "grid_auto_rows": null,
            "grid_gap": null,
            "max_width": null,
            "order": null,
            "_view_module_version": "1.2.0",
            "grid_template_areas": null,
            "object_position": null,
            "object_fit": null,
            "grid_auto_columns": null,
            "margin": null,
            "display": null,
            "left": null
          }
        },
        "4e0bb00063314e3ba02ccae16ebc87dc": {
          "model_module": "@jupyter-widgets/controls",
          "model_name": "ProgressStyleModel",
          "model_module_version": "1.5.0",
          "state": {
            "_view_name": "StyleView",
            "_model_name": "ProgressStyleModel",
            "description_width": "",
            "_view_module": "@jupyter-widgets/base",
            "_model_module_version": "1.5.0",
            "_view_count": null,
            "_view_module_version": "1.2.0",
            "bar_color": null,
            "_model_module": "@jupyter-widgets/controls"
          }
        },
        "6b6d0101f1f8439ca3169a0e028029c2": {
          "model_module": "@jupyter-widgets/base",
          "model_name": "LayoutModel",
          "model_module_version": "1.2.0",
          "state": {
            "_view_name": "LayoutView",
            "grid_template_rows": null,
            "right": null,
            "justify_content": null,
            "_view_module": "@jupyter-widgets/base",
            "overflow": null,
            "_model_module_version": "1.2.0",
            "_view_count": null,
            "flex_flow": null,
            "width": null,
            "min_width": null,
            "border": null,
            "align_items": null,
            "bottom": null,
            "_model_module": "@jupyter-widgets/base",
            "top": null,
            "grid_column": null,
            "overflow_y": null,
            "overflow_x": null,
            "grid_auto_flow": null,
            "grid_area": null,
            "grid_template_columns": null,
            "flex": null,
            "_model_name": "LayoutModel",
            "justify_items": null,
            "grid_row": null,
            "max_height": null,
            "align_content": null,
            "visibility": null,
            "align_self": null,
            "height": null,
            "min_height": null,
            "padding": null,
            "grid_auto_rows": null,
            "grid_gap": null,
            "max_width": null,
            "order": null,
            "_view_module_version": "1.2.0",
            "grid_template_areas": null,
            "object_position": null,
            "object_fit": null,
            "grid_auto_columns": null,
            "margin": null,
            "display": null,
            "left": null
          }
        },
        "032f4e1fe907460f9028e014d9ea1512": {
          "model_module": "@jupyter-widgets/controls",
          "model_name": "DescriptionStyleModel",
          "model_module_version": "1.5.0",
          "state": {
            "_view_name": "StyleView",
            "_model_name": "DescriptionStyleModel",
            "description_width": "",
            "_view_module": "@jupyter-widgets/base",
            "_model_module_version": "1.5.0",
            "_view_count": null,
            "_view_module_version": "1.2.0",
            "_model_module": "@jupyter-widgets/controls"
          }
        },
        "beef857901984019bae5990d46f07ca8": {
          "model_module": "@jupyter-widgets/base",
          "model_name": "LayoutModel",
          "model_module_version": "1.2.0",
          "state": {
            "_view_name": "LayoutView",
            "grid_template_rows": null,
            "right": null,
            "justify_content": null,
            "_view_module": "@jupyter-widgets/base",
            "overflow": null,
            "_model_module_version": "1.2.0",
            "_view_count": null,
            "flex_flow": null,
            "width": null,
            "min_width": null,
            "border": null,
            "align_items": null,
            "bottom": null,
            "_model_module": "@jupyter-widgets/base",
            "top": null,
            "grid_column": null,
            "overflow_y": null,
            "overflow_x": null,
            "grid_auto_flow": null,
            "grid_area": null,
            "grid_template_columns": null,
            "flex": null,
            "_model_name": "LayoutModel",
            "justify_items": null,
            "grid_row": null,
            "max_height": null,
            "align_content": null,
            "visibility": null,
            "align_self": null,
            "height": null,
            "min_height": null,
            "padding": null,
            "grid_auto_rows": null,
            "grid_gap": null,
            "max_width": null,
            "order": null,
            "_view_module_version": "1.2.0",
            "grid_template_areas": null,
            "object_position": null,
            "object_fit": null,
            "grid_auto_columns": null,
            "margin": null,
            "display": null,
            "left": null
          }
        },
        "4e4d485328c24a5897ecc1c90e05089a": {
          "model_module": "@jupyter-widgets/controls",
          "model_name": "HBoxModel",
          "model_module_version": "1.5.0",
          "state": {
            "_view_name": "HBoxView",
            "_dom_classes": [],
            "_model_name": "HBoxModel",
            "_view_module": "@jupyter-widgets/controls",
            "_model_module_version": "1.5.0",
            "_view_count": null,
            "_view_module_version": "1.5.0",
            "box_style": "",
            "layout": "IPY_MODEL_2660ee23afa04b368928ec7b398a1a4e",
            "_model_module": "@jupyter-widgets/controls",
            "children": [
              "IPY_MODEL_afc9051e109f4870b0fdbe37dafd40f3",
              "IPY_MODEL_127b38df98e84baebad314cb796b9506",
              "IPY_MODEL_5860cd343a9347418158e1b454e3d821"
            ]
          }
        },
        "2660ee23afa04b368928ec7b398a1a4e": {
          "model_module": "@jupyter-widgets/base",
          "model_name": "LayoutModel",
          "model_module_version": "1.2.0",
          "state": {
            "_view_name": "LayoutView",
            "grid_template_rows": null,
            "right": null,
            "justify_content": null,
            "_view_module": "@jupyter-widgets/base",
            "overflow": null,
            "_model_module_version": "1.2.0",
            "_view_count": null,
            "flex_flow": null,
            "width": null,
            "min_width": null,
            "border": null,
            "align_items": null,
            "bottom": null,
            "_model_module": "@jupyter-widgets/base",
            "top": null,
            "grid_column": null,
            "overflow_y": null,
            "overflow_x": null,
            "grid_auto_flow": null,
            "grid_area": null,
            "grid_template_columns": null,
            "flex": null,
            "_model_name": "LayoutModel",
            "justify_items": null,
            "grid_row": null,
            "max_height": null,
            "align_content": null,
            "visibility": null,
            "align_self": null,
            "height": null,
            "min_height": null,
            "padding": null,
            "grid_auto_rows": null,
            "grid_gap": null,
            "max_width": null,
            "order": null,
            "_view_module_version": "1.2.0",
            "grid_template_areas": null,
            "object_position": null,
            "object_fit": null,
            "grid_auto_columns": null,
            "margin": null,
            "display": null,
            "left": null
          }
        },
        "afc9051e109f4870b0fdbe37dafd40f3": {
          "model_module": "@jupyter-widgets/controls",
          "model_name": "HTMLModel",
          "model_module_version": "1.5.0",
          "state": {
            "_view_name": "HTMLView",
            "style": "IPY_MODEL_722b69689f3a4e48ad69b1dc8083667c",
            "_dom_classes": [],
            "description": "",
            "_model_name": "HTMLModel",
            "placeholder": "​",
            "_view_module": "@jupyter-widgets/controls",
            "_model_module_version": "1.5.0",
            "value": "Downloading: ",
            "_view_count": null,
            "_view_module_version": "1.5.0",
            "description_tooltip": null,
            "_model_module": "@jupyter-widgets/controls",
            "layout": "IPY_MODEL_0650bd8b711d4b4eab7c88ca0bc35359"
          }
        },
        "127b38df98e84baebad314cb796b9506": {
          "model_module": "@jupyter-widgets/controls",
          "model_name": "FloatProgressModel",
          "model_module_version": "1.5.0",
          "state": {
            "_view_name": "ProgressView",
            "style": "IPY_MODEL_103b0bdb14b548a5953bd1b427be1553",
            "_dom_classes": [],
            "description": "",
            "_model_name": "FloatProgressModel",
            "bar_style": "success",
            "max": 2771,
            "_view_module": "@jupyter-widgets/controls",
            "_model_module_version": "1.5.0",
            "value": 2771,
            "_view_count": null,
            "_view_module_version": "1.5.0",
            "orientation": "horizontal",
            "min": 0,
            "description_tooltip": null,
            "_model_module": "@jupyter-widgets/controls",
            "layout": "IPY_MODEL_ed8082d99371432da9fa9e8773cb696c"
          }
        },
        "5860cd343a9347418158e1b454e3d821": {
          "model_module": "@jupyter-widgets/controls",
          "model_name": "HTMLModel",
          "model_module_version": "1.5.0",
          "state": {
            "_view_name": "HTMLView",
            "style": "IPY_MODEL_b5622cf7cf504b6682b5cfd50c3e7afd",
            "_dom_classes": [],
            "description": "",
            "_model_name": "HTMLModel",
            "placeholder": "​",
            "_view_module": "@jupyter-widgets/controls",
            "_model_module_version": "1.5.0",
            "value": " 18.0k/? [00:00&lt;00:00, 363kB/s]",
            "_view_count": null,
            "_view_module_version": "1.5.0",
            "description_tooltip": null,
            "_model_module": "@jupyter-widgets/controls",
            "layout": "IPY_MODEL_3cdcab55423643048fbaaf01a11af880"
          }
        },
        "722b69689f3a4e48ad69b1dc8083667c": {
          "model_module": "@jupyter-widgets/controls",
          "model_name": "DescriptionStyleModel",
          "model_module_version": "1.5.0",
          "state": {
            "_view_name": "StyleView",
            "_model_name": "DescriptionStyleModel",
            "description_width": "",
            "_view_module": "@jupyter-widgets/base",
            "_model_module_version": "1.5.0",
            "_view_count": null,
            "_view_module_version": "1.2.0",
            "_model_module": "@jupyter-widgets/controls"
          }
        },
        "0650bd8b711d4b4eab7c88ca0bc35359": {
          "model_module": "@jupyter-widgets/base",
          "model_name": "LayoutModel",
          "model_module_version": "1.2.0",
          "state": {
            "_view_name": "LayoutView",
            "grid_template_rows": null,
            "right": null,
            "justify_content": null,
            "_view_module": "@jupyter-widgets/base",
            "overflow": null,
            "_model_module_version": "1.2.0",
            "_view_count": null,
            "flex_flow": null,
            "width": null,
            "min_width": null,
            "border": null,
            "align_items": null,
            "bottom": null,
            "_model_module": "@jupyter-widgets/base",
            "top": null,
            "grid_column": null,
            "overflow_y": null,
            "overflow_x": null,
            "grid_auto_flow": null,
            "grid_area": null,
            "grid_template_columns": null,
            "flex": null,
            "_model_name": "LayoutModel",
            "justify_items": null,
            "grid_row": null,
            "max_height": null,
            "align_content": null,
            "visibility": null,
            "align_self": null,
            "height": null,
            "min_height": null,
            "padding": null,
            "grid_auto_rows": null,
            "grid_gap": null,
            "max_width": null,
            "order": null,
            "_view_module_version": "1.2.0",
            "grid_template_areas": null,
            "object_position": null,
            "object_fit": null,
            "grid_auto_columns": null,
            "margin": null,
            "display": null,
            "left": null
          }
        },
        "103b0bdb14b548a5953bd1b427be1553": {
          "model_module": "@jupyter-widgets/controls",
          "model_name": "ProgressStyleModel",
          "model_module_version": "1.5.0",
          "state": {
            "_view_name": "StyleView",
            "_model_name": "ProgressStyleModel",
            "description_width": "",
            "_view_module": "@jupyter-widgets/base",
            "_model_module_version": "1.5.0",
            "_view_count": null,
            "_view_module_version": "1.2.0",
            "bar_color": null,
            "_model_module": "@jupyter-widgets/controls"
          }
        },
        "ed8082d99371432da9fa9e8773cb696c": {
          "model_module": "@jupyter-widgets/base",
          "model_name": "LayoutModel",
          "model_module_version": "1.2.0",
          "state": {
            "_view_name": "LayoutView",
            "grid_template_rows": null,
            "right": null,
            "justify_content": null,
            "_view_module": "@jupyter-widgets/base",
            "overflow": null,
            "_model_module_version": "1.2.0",
            "_view_count": null,
            "flex_flow": null,
            "width": null,
            "min_width": null,
            "border": null,
            "align_items": null,
            "bottom": null,
            "_model_module": "@jupyter-widgets/base",
            "top": null,
            "grid_column": null,
            "overflow_y": null,
            "overflow_x": null,
            "grid_auto_flow": null,
            "grid_area": null,
            "grid_template_columns": null,
            "flex": null,
            "_model_name": "LayoutModel",
            "justify_items": null,
            "grid_row": null,
            "max_height": null,
            "align_content": null,
            "visibility": null,
            "align_self": null,
            "height": null,
            "min_height": null,
            "padding": null,
            "grid_auto_rows": null,
            "grid_gap": null,
            "max_width": null,
            "order": null,
            "_view_module_version": "1.2.0",
            "grid_template_areas": null,
            "object_position": null,
            "object_fit": null,
            "grid_auto_columns": null,
            "margin": null,
            "display": null,
            "left": null
          }
        },
        "b5622cf7cf504b6682b5cfd50c3e7afd": {
          "model_module": "@jupyter-widgets/controls",
          "model_name": "DescriptionStyleModel",
          "model_module_version": "1.5.0",
          "state": {
            "_view_name": "StyleView",
            "_model_name": "DescriptionStyleModel",
            "description_width": "",
            "_view_module": "@jupyter-widgets/base",
            "_model_module_version": "1.5.0",
            "_view_count": null,
            "_view_module_version": "1.2.0",
            "_model_module": "@jupyter-widgets/controls"
          }
        },
        "3cdcab55423643048fbaaf01a11af880": {
          "model_module": "@jupyter-widgets/base",
          "model_name": "LayoutModel",
          "model_module_version": "1.2.0",
          "state": {
            "_view_name": "LayoutView",
            "grid_template_rows": null,
            "right": null,
            "justify_content": null,
            "_view_module": "@jupyter-widgets/base",
            "overflow": null,
            "_model_module_version": "1.2.0",
            "_view_count": null,
            "flex_flow": null,
            "width": null,
            "min_width": null,
            "border": null,
            "align_items": null,
            "bottom": null,
            "_model_module": "@jupyter-widgets/base",
            "top": null,
            "grid_column": null,
            "overflow_y": null,
            "overflow_x": null,
            "grid_auto_flow": null,
            "grid_area": null,
            "grid_template_columns": null,
            "flex": null,
            "_model_name": "LayoutModel",
            "justify_items": null,
            "grid_row": null,
            "max_height": null,
            "align_content": null,
            "visibility": null,
            "align_self": null,
            "height": null,
            "min_height": null,
            "padding": null,
            "grid_auto_rows": null,
            "grid_gap": null,
            "max_width": null,
            "order": null,
            "_view_module_version": "1.2.0",
            "grid_template_areas": null,
            "object_position": null,
            "object_fit": null,
            "grid_auto_columns": null,
            "margin": null,
            "display": null,
            "left": null
          }
        },
        "8526a1cae770495bba1676d1a3410e2b": {
          "model_module": "@jupyter-widgets/controls",
          "model_name": "HBoxModel",
          "model_module_version": "1.5.0",
          "state": {
            "_view_name": "HBoxView",
            "_dom_classes": [],
            "_model_name": "HBoxModel",
            "_view_module": "@jupyter-widgets/controls",
            "_model_module_version": "1.5.0",
            "_view_count": null,
            "_view_module_version": "1.5.0",
            "box_style": "",
            "layout": "IPY_MODEL_505e212454fa44408ba0d90f45502b96",
            "_model_module": "@jupyter-widgets/controls",
            "children": [
              "IPY_MODEL_d948ee7f86f74c68abe5f8ae1f4c98cc",
              "IPY_MODEL_016bf362c24b45d29b8fe3f66278a2b3",
              "IPY_MODEL_436ea18dbd1840b5b245fa785a75528d"
            ]
          }
        },
        "505e212454fa44408ba0d90f45502b96": {
          "model_module": "@jupyter-widgets/base",
          "model_name": "LayoutModel",
          "model_module_version": "1.2.0",
          "state": {
            "_view_name": "LayoutView",
            "grid_template_rows": null,
            "right": null,
            "justify_content": null,
            "_view_module": "@jupyter-widgets/base",
            "overflow": null,
            "_model_module_version": "1.2.0",
            "_view_count": null,
            "flex_flow": null,
            "width": null,
            "min_width": null,
            "border": null,
            "align_items": null,
            "bottom": null,
            "_model_module": "@jupyter-widgets/base",
            "top": null,
            "grid_column": null,
            "overflow_y": null,
            "overflow_x": null,
            "grid_auto_flow": null,
            "grid_area": null,
            "grid_template_columns": null,
            "flex": null,
            "_model_name": "LayoutModel",
            "justify_items": null,
            "grid_row": null,
            "max_height": null,
            "align_content": null,
            "visibility": null,
            "align_self": null,
            "height": null,
            "min_height": null,
            "padding": null,
            "grid_auto_rows": null,
            "grid_gap": null,
            "max_width": null,
            "order": null,
            "_view_module_version": "1.2.0",
            "grid_template_areas": null,
            "object_position": null,
            "object_fit": null,
            "grid_auto_columns": null,
            "margin": null,
            "display": null,
            "left": null
          }
        },
        "d948ee7f86f74c68abe5f8ae1f4c98cc": {
          "model_module": "@jupyter-widgets/controls",
          "model_name": "HTMLModel",
          "model_module_version": "1.5.0",
          "state": {
            "_view_name": "HTMLView",
            "style": "IPY_MODEL_2062594d3eaf4f57a105570a2c8bb6b8",
            "_dom_classes": [],
            "description": "",
            "_model_name": "HTMLModel",
            "placeholder": "​",
            "_view_module": "@jupyter-widgets/controls",
            "_model_module_version": "1.5.0",
            "value": "",
            "_view_count": null,
            "_view_module_version": "1.5.0",
            "description_tooltip": null,
            "_model_module": "@jupyter-widgets/controls",
            "layout": "IPY_MODEL_94c1fa6fd8414ce6b8077d822f6f94fb"
          }
        },
        "016bf362c24b45d29b8fe3f66278a2b3": {
          "model_module": "@jupyter-widgets/controls",
          "model_name": "FloatProgressModel",
          "model_module_version": "1.5.0",
          "state": {
            "_view_name": "ProgressView",
            "style": "IPY_MODEL_6536c48ab1ce4bdf99c2f4861f27674d",
            "_dom_classes": [],
            "description": "",
            "_model_name": "FloatProgressModel",
            "bar_style": "info",
            "max": 1,
            "_view_module": "@jupyter-widgets/controls",
            "_model_module_version": "1.5.0",
            "value": 1,
            "_view_count": null,
            "_view_module_version": "1.5.0",
            "orientation": "horizontal",
            "min": 0,
            "description_tooltip": null,
            "_model_module": "@jupyter-widgets/controls",
            "layout": "IPY_MODEL_7477887d166642dbb554c30479dbb99c"
          }
        },
        "436ea18dbd1840b5b245fa785a75528d": {
          "model_module": "@jupyter-widgets/controls",
          "model_name": "HTMLModel",
          "model_module_version": "1.5.0",
          "state": {
            "_view_name": "HTMLView",
            "style": "IPY_MODEL_c0550b38c9304aabb7716349870f22db",
            "_dom_classes": [],
            "description": "",
            "_model_name": "HTMLModel",
            "placeholder": "​",
            "_view_module": "@jupyter-widgets/controls",
            "_model_module_version": "1.5.0",
            "value": " 8372/0 [00:21&lt;00:00, 563.75 examples/s]",
            "_view_count": null,
            "_view_module_version": "1.5.0",
            "description_tooltip": null,
            "_model_module": "@jupyter-widgets/controls",
            "layout": "IPY_MODEL_7dd27a9cbb644f6d8dae914fe7a53364"
          }
        },
        "2062594d3eaf4f57a105570a2c8bb6b8": {
          "model_module": "@jupyter-widgets/controls",
          "model_name": "DescriptionStyleModel",
          "model_module_version": "1.5.0",
          "state": {
            "_view_name": "StyleView",
            "_model_name": "DescriptionStyleModel",
            "description_width": "",
            "_view_module": "@jupyter-widgets/base",
            "_model_module_version": "1.5.0",
            "_view_count": null,
            "_view_module_version": "1.2.0",
            "_model_module": "@jupyter-widgets/controls"
          }
        },
        "94c1fa6fd8414ce6b8077d822f6f94fb": {
          "model_module": "@jupyter-widgets/base",
          "model_name": "LayoutModel",
          "model_module_version": "1.2.0",
          "state": {
            "_view_name": "LayoutView",
            "grid_template_rows": null,
            "right": null,
            "justify_content": null,
            "_view_module": "@jupyter-widgets/base",
            "overflow": null,
            "_model_module_version": "1.2.0",
            "_view_count": null,
            "flex_flow": null,
            "width": null,
            "min_width": null,
            "border": null,
            "align_items": null,
            "bottom": null,
            "_model_module": "@jupyter-widgets/base",
            "top": null,
            "grid_column": null,
            "overflow_y": null,
            "overflow_x": null,
            "grid_auto_flow": null,
            "grid_area": null,
            "grid_template_columns": null,
            "flex": null,
            "_model_name": "LayoutModel",
            "justify_items": null,
            "grid_row": null,
            "max_height": null,
            "align_content": null,
            "visibility": null,
            "align_self": null,
            "height": null,
            "min_height": null,
            "padding": null,
            "grid_auto_rows": null,
            "grid_gap": null,
            "max_width": null,
            "order": null,
            "_view_module_version": "1.2.0",
            "grid_template_areas": null,
            "object_position": null,
            "object_fit": null,
            "grid_auto_columns": null,
            "margin": null,
            "display": null,
            "left": null
          }
        },
        "6536c48ab1ce4bdf99c2f4861f27674d": {
          "model_module": "@jupyter-widgets/controls",
          "model_name": "ProgressStyleModel",
          "model_module_version": "1.5.0",
          "state": {
            "_view_name": "StyleView",
            "_model_name": "ProgressStyleModel",
            "description_width": "",
            "_view_module": "@jupyter-widgets/base",
            "_model_module_version": "1.5.0",
            "_view_count": null,
            "_view_module_version": "1.2.0",
            "bar_color": null,
            "_model_module": "@jupyter-widgets/controls"
          }
        },
        "7477887d166642dbb554c30479dbb99c": {
          "model_module": "@jupyter-widgets/base",
          "model_name": "LayoutModel",
          "model_module_version": "1.2.0",
          "state": {
            "_view_name": "LayoutView",
            "grid_template_rows": null,
            "right": null,
            "justify_content": null,
            "_view_module": "@jupyter-widgets/base",
            "overflow": null,
            "_model_module_version": "1.2.0",
            "_view_count": null,
            "flex_flow": null,
            "width": "20px",
            "min_width": null,
            "border": null,
            "align_items": null,
            "bottom": null,
            "_model_module": "@jupyter-widgets/base",
            "top": null,
            "grid_column": null,
            "overflow_y": null,
            "overflow_x": null,
            "grid_auto_flow": null,
            "grid_area": null,
            "grid_template_columns": null,
            "flex": null,
            "_model_name": "LayoutModel",
            "justify_items": null,
            "grid_row": null,
            "max_height": null,
            "align_content": null,
            "visibility": null,
            "align_self": null,
            "height": null,
            "min_height": null,
            "padding": null,
            "grid_auto_rows": null,
            "grid_gap": null,
            "max_width": null,
            "order": null,
            "_view_module_version": "1.2.0",
            "grid_template_areas": null,
            "object_position": null,
            "object_fit": null,
            "grid_auto_columns": null,
            "margin": null,
            "display": null,
            "left": null
          }
        },
        "c0550b38c9304aabb7716349870f22db": {
          "model_module": "@jupyter-widgets/controls",
          "model_name": "DescriptionStyleModel",
          "model_module_version": "1.5.0",
          "state": {
            "_view_name": "StyleView",
            "_model_name": "DescriptionStyleModel",
            "description_width": "",
            "_view_module": "@jupyter-widgets/base",
            "_model_module_version": "1.5.0",
            "_view_count": null,
            "_view_module_version": "1.2.0",
            "_model_module": "@jupyter-widgets/controls"
          }
        },
        "7dd27a9cbb644f6d8dae914fe7a53364": {
          "model_module": "@jupyter-widgets/base",
          "model_name": "LayoutModel",
          "model_module_version": "1.2.0",
          "state": {
            "_view_name": "LayoutView",
            "grid_template_rows": null,
            "right": null,
            "justify_content": null,
            "_view_module": "@jupyter-widgets/base",
            "overflow": null,
            "_model_module_version": "1.2.0",
            "_view_count": null,
            "flex_flow": null,
            "width": null,
            "min_width": null,
            "border": null,
            "align_items": null,
            "bottom": null,
            "_model_module": "@jupyter-widgets/base",
            "top": null,
            "grid_column": null,
            "overflow_y": null,
            "overflow_x": null,
            "grid_auto_flow": null,
            "grid_area": null,
            "grid_template_columns": null,
            "flex": null,
            "_model_name": "LayoutModel",
            "justify_items": null,
            "grid_row": null,
            "max_height": null,
            "align_content": null,
            "visibility": null,
            "align_self": null,
            "height": null,
            "min_height": null,
            "padding": null,
            "grid_auto_rows": null,
            "grid_gap": null,
            "max_width": null,
            "order": null,
            "_view_module_version": "1.2.0",
            "grid_template_areas": null,
            "object_position": null,
            "object_fit": null,
            "grid_auto_columns": null,
            "margin": null,
            "display": null,
            "left": null
          }
        },
        "4600e80e8a5a4c5b868631c2aa06c0da": {
          "model_module": "@jupyter-widgets/controls",
          "model_name": "HBoxModel",
          "model_module_version": "1.5.0",
          "state": {
            "_view_name": "HBoxView",
            "_dom_classes": [],
            "_model_name": "HBoxModel",
            "_view_module": "@jupyter-widgets/controls",
            "_model_module_version": "1.5.0",
            "_view_count": null,
            "_view_module_version": "1.5.0",
            "box_style": "",
            "layout": "IPY_MODEL_30356b36bd614129a534138b61cc9df6",
            "_model_module": "@jupyter-widgets/controls",
            "children": [
              "IPY_MODEL_05d347a7408a4a39ae789fe05ec427a8",
              "IPY_MODEL_d79d30ef7d0f41349268fbdb4f8e5424",
              "IPY_MODEL_144f52fa2f564e39b40a7942cf8d0077"
            ]
          }
        },
        "30356b36bd614129a534138b61cc9df6": {
          "model_module": "@jupyter-widgets/base",
          "model_name": "LayoutModel",
          "model_module_version": "1.2.0",
          "state": {
            "_view_name": "LayoutView",
            "grid_template_rows": null,
            "right": null,
            "justify_content": null,
            "_view_module": "@jupyter-widgets/base",
            "overflow": null,
            "_model_module_version": "1.2.0",
            "_view_count": null,
            "flex_flow": null,
            "width": null,
            "min_width": null,
            "border": null,
            "align_items": null,
            "bottom": null,
            "_model_module": "@jupyter-widgets/base",
            "top": null,
            "grid_column": null,
            "overflow_y": null,
            "overflow_x": null,
            "grid_auto_flow": null,
            "grid_area": null,
            "grid_template_columns": null,
            "flex": null,
            "_model_name": "LayoutModel",
            "justify_items": null,
            "grid_row": null,
            "max_height": null,
            "align_content": null,
            "visibility": null,
            "align_self": null,
            "height": null,
            "min_height": null,
            "padding": null,
            "grid_auto_rows": null,
            "grid_gap": null,
            "max_width": null,
            "order": null,
            "_view_module_version": "1.2.0",
            "grid_template_areas": null,
            "object_position": null,
            "object_fit": null,
            "grid_auto_columns": null,
            "margin": null,
            "display": null,
            "left": null
          }
        },
        "05d347a7408a4a39ae789fe05ec427a8": {
          "model_module": "@jupyter-widgets/controls",
          "model_name": "HTMLModel",
          "model_module_version": "1.5.0",
          "state": {
            "_view_name": "HTMLView",
            "style": "IPY_MODEL_043456313742422aae1dd0c42e04aa1b",
            "_dom_classes": [],
            "description": "",
            "_model_name": "HTMLModel",
            "placeholder": "​",
            "_view_module": "@jupyter-widgets/controls",
            "_model_module_version": "1.5.0",
            "value": "",
            "_view_count": null,
            "_view_module_version": "1.5.0",
            "description_tooltip": null,
            "_model_module": "@jupyter-widgets/controls",
            "layout": "IPY_MODEL_383ba3842514428db2971d938cc3715e"
          }
        },
        "d79d30ef7d0f41349268fbdb4f8e5424": {
          "model_module": "@jupyter-widgets/controls",
          "model_name": "FloatProgressModel",
          "model_module_version": "1.5.0",
          "state": {
            "_view_name": "ProgressView",
            "style": "IPY_MODEL_9411a1130c1647beac0285d1a03d20d2",
            "_dom_classes": [],
            "description": "",
            "_model_name": "FloatProgressModel",
            "bar_style": "info",
            "max": 1,
            "_view_module": "@jupyter-widgets/controls",
            "_model_module_version": "1.5.0",
            "value": 1,
            "_view_count": null,
            "_view_module_version": "1.5.0",
            "orientation": "horizontal",
            "min": 0,
            "description_tooltip": null,
            "_model_module": "@jupyter-widgets/controls",
            "layout": "IPY_MODEL_0a1711aa709745658a92ad1f668684c1"
          }
        },
        "144f52fa2f564e39b40a7942cf8d0077": {
          "model_module": "@jupyter-widgets/controls",
          "model_name": "HTMLModel",
          "model_module_version": "1.5.0",
          "state": {
            "_view_name": "HTMLView",
            "style": "IPY_MODEL_66ea10b4dd584fb28727f4d53eb4d376",
            "_dom_classes": [],
            "description": "",
            "_model_name": "HTMLModel",
            "placeholder": "​",
            "_view_module": "@jupyter-widgets/controls",
            "_model_module_version": "1.5.0",
            "value": " 996/0 [00:02&lt;00:00, 518.04 examples/s]",
            "_view_count": null,
            "_view_module_version": "1.5.0",
            "description_tooltip": null,
            "_model_module": "@jupyter-widgets/controls",
            "layout": "IPY_MODEL_c5f4b8a6841c4d4cae0290689635f3fe"
          }
        },
        "043456313742422aae1dd0c42e04aa1b": {
          "model_module": "@jupyter-widgets/controls",
          "model_name": "DescriptionStyleModel",
          "model_module_version": "1.5.0",
          "state": {
            "_view_name": "StyleView",
            "_model_name": "DescriptionStyleModel",
            "description_width": "",
            "_view_module": "@jupyter-widgets/base",
            "_model_module_version": "1.5.0",
            "_view_count": null,
            "_view_module_version": "1.2.0",
            "_model_module": "@jupyter-widgets/controls"
          }
        },
        "383ba3842514428db2971d938cc3715e": {
          "model_module": "@jupyter-widgets/base",
          "model_name": "LayoutModel",
          "model_module_version": "1.2.0",
          "state": {
            "_view_name": "LayoutView",
            "grid_template_rows": null,
            "right": null,
            "justify_content": null,
            "_view_module": "@jupyter-widgets/base",
            "overflow": null,
            "_model_module_version": "1.2.0",
            "_view_count": null,
            "flex_flow": null,
            "width": null,
            "min_width": null,
            "border": null,
            "align_items": null,
            "bottom": null,
            "_model_module": "@jupyter-widgets/base",
            "top": null,
            "grid_column": null,
            "overflow_y": null,
            "overflow_x": null,
            "grid_auto_flow": null,
            "grid_area": null,
            "grid_template_columns": null,
            "flex": null,
            "_model_name": "LayoutModel",
            "justify_items": null,
            "grid_row": null,
            "max_height": null,
            "align_content": null,
            "visibility": null,
            "align_self": null,
            "height": null,
            "min_height": null,
            "padding": null,
            "grid_auto_rows": null,
            "grid_gap": null,
            "max_width": null,
            "order": null,
            "_view_module_version": "1.2.0",
            "grid_template_areas": null,
            "object_position": null,
            "object_fit": null,
            "grid_auto_columns": null,
            "margin": null,
            "display": null,
            "left": null
          }
        },
        "9411a1130c1647beac0285d1a03d20d2": {
          "model_module": "@jupyter-widgets/controls",
          "model_name": "ProgressStyleModel",
          "model_module_version": "1.5.0",
          "state": {
            "_view_name": "StyleView",
            "_model_name": "ProgressStyleModel",
            "description_width": "",
            "_view_module": "@jupyter-widgets/base",
            "_model_module_version": "1.5.0",
            "_view_count": null,
            "_view_module_version": "1.2.0",
            "bar_color": null,
            "_model_module": "@jupyter-widgets/controls"
          }
        },
        "0a1711aa709745658a92ad1f668684c1": {
          "model_module": "@jupyter-widgets/base",
          "model_name": "LayoutModel",
          "model_module_version": "1.2.0",
          "state": {
            "_view_name": "LayoutView",
            "grid_template_rows": null,
            "right": null,
            "justify_content": null,
            "_view_module": "@jupyter-widgets/base",
            "overflow": null,
            "_model_module_version": "1.2.0",
            "_view_count": null,
            "flex_flow": null,
            "width": "20px",
            "min_width": null,
            "border": null,
            "align_items": null,
            "bottom": null,
            "_model_module": "@jupyter-widgets/base",
            "top": null,
            "grid_column": null,
            "overflow_y": null,
            "overflow_x": null,
            "grid_auto_flow": null,
            "grid_area": null,
            "grid_template_columns": null,
            "flex": null,
            "_model_name": "LayoutModel",
            "justify_items": null,
            "grid_row": null,
            "max_height": null,
            "align_content": null,
            "visibility": null,
            "align_self": null,
            "height": null,
            "min_height": null,
            "padding": null,
            "grid_auto_rows": null,
            "grid_gap": null,
            "max_width": null,
            "order": null,
            "_view_module_version": "1.2.0",
            "grid_template_areas": null,
            "object_position": null,
            "object_fit": null,
            "grid_auto_columns": null,
            "margin": null,
            "display": null,
            "left": null
          }
        },
        "66ea10b4dd584fb28727f4d53eb4d376": {
          "model_module": "@jupyter-widgets/controls",
          "model_name": "DescriptionStyleModel",
          "model_module_version": "1.5.0",
          "state": {
            "_view_name": "StyleView",
            "_model_name": "DescriptionStyleModel",
            "description_width": "",
            "_view_module": "@jupyter-widgets/base",
            "_model_module_version": "1.5.0",
            "_view_count": null,
            "_view_module_version": "1.2.0",
            "_model_module": "@jupyter-widgets/controls"
          }
        },
        "c5f4b8a6841c4d4cae0290689635f3fe": {
          "model_module": "@jupyter-widgets/base",
          "model_name": "LayoutModel",
          "model_module_version": "1.2.0",
          "state": {
            "_view_name": "LayoutView",
            "grid_template_rows": null,
            "right": null,
            "justify_content": null,
            "_view_module": "@jupyter-widgets/base",
            "overflow": null,
            "_model_module_version": "1.2.0",
            "_view_count": null,
            "flex_flow": null,
            "width": null,
            "min_width": null,
            "border": null,
            "align_items": null,
            "bottom": null,
            "_model_module": "@jupyter-widgets/base",
            "top": null,
            "grid_column": null,
            "overflow_y": null,
            "overflow_x": null,
            "grid_auto_flow": null,
            "grid_area": null,
            "grid_template_columns": null,
            "flex": null,
            "_model_name": "LayoutModel",
            "justify_items": null,
            "grid_row": null,
            "max_height": null,
            "align_content": null,
            "visibility": null,
            "align_self": null,
            "height": null,
            "min_height": null,
            "padding": null,
            "grid_auto_rows": null,
            "grid_gap": null,
            "max_width": null,
            "order": null,
            "_view_module_version": "1.2.0",
            "grid_template_areas": null,
            "object_position": null,
            "object_fit": null,
            "grid_auto_columns": null,
            "margin": null,
            "display": null,
            "left": null
          }
        },
        "f5ca825aacea46cc83657f8a675cfdd4": {
          "model_module": "@jupyter-widgets/controls",
          "model_name": "HBoxModel",
          "model_module_version": "1.5.0",
          "state": {
            "_view_name": "HBoxView",
            "_dom_classes": [],
            "_model_name": "HBoxModel",
            "_view_module": "@jupyter-widgets/controls",
            "_model_module_version": "1.5.0",
            "_view_count": null,
            "_view_module_version": "1.5.0",
            "box_style": "",
            "layout": "IPY_MODEL_b790114963de43d39a972768015e5c20",
            "_model_module": "@jupyter-widgets/controls",
            "children": [
              "IPY_MODEL_acf295acad0041ef929aff9e7d8ef08d",
              "IPY_MODEL_537be0cf5bd9444f8a3a8cafd9c3defb",
              "IPY_MODEL_54c831f42515473995304a260f067524"
            ]
          }
        },
        "b790114963de43d39a972768015e5c20": {
          "model_module": "@jupyter-widgets/base",
          "model_name": "LayoutModel",
          "model_module_version": "1.2.0",
          "state": {
            "_view_name": "LayoutView",
            "grid_template_rows": null,
            "right": null,
            "justify_content": null,
            "_view_module": "@jupyter-widgets/base",
            "overflow": null,
            "_model_module_version": "1.2.0",
            "_view_count": null,
            "flex_flow": null,
            "width": null,
            "min_width": null,
            "border": null,
            "align_items": null,
            "bottom": null,
            "_model_module": "@jupyter-widgets/base",
            "top": null,
            "grid_column": null,
            "overflow_y": null,
            "overflow_x": null,
            "grid_auto_flow": null,
            "grid_area": null,
            "grid_template_columns": null,
            "flex": null,
            "_model_name": "LayoutModel",
            "justify_items": null,
            "grid_row": null,
            "max_height": null,
            "align_content": null,
            "visibility": null,
            "align_self": null,
            "height": null,
            "min_height": null,
            "padding": null,
            "grid_auto_rows": null,
            "grid_gap": null,
            "max_width": null,
            "order": null,
            "_view_module_version": "1.2.0",
            "grid_template_areas": null,
            "object_position": null,
            "object_fit": null,
            "grid_auto_columns": null,
            "margin": null,
            "display": null,
            "left": null
          }
        },
        "acf295acad0041ef929aff9e7d8ef08d": {
          "model_module": "@jupyter-widgets/controls",
          "model_name": "HTMLModel",
          "model_module_version": "1.5.0",
          "state": {
            "_view_name": "HTMLView",
            "style": "IPY_MODEL_4e98931e589f4733a27164b47b4176cc",
            "_dom_classes": [],
            "description": "",
            "_model_name": "HTMLModel",
            "placeholder": "​",
            "_view_module": "@jupyter-widgets/controls",
            "_model_module_version": "1.5.0",
            "value": "",
            "_view_count": null,
            "_view_module_version": "1.5.0",
            "description_tooltip": null,
            "_model_module": "@jupyter-widgets/controls",
            "layout": "IPY_MODEL_d70bb146412c43ce99d795d9164475f8"
          }
        },
        "537be0cf5bd9444f8a3a8cafd9c3defb": {
          "model_module": "@jupyter-widgets/controls",
          "model_name": "FloatProgressModel",
          "model_module_version": "1.5.0",
          "state": {
            "_view_name": "ProgressView",
            "style": "IPY_MODEL_0aa57af407cc4f5d950be6a1ba40d5fc",
            "_dom_classes": [],
            "description": "",
            "_model_name": "FloatProgressModel",
            "bar_style": "info",
            "max": 1,
            "_view_module": "@jupyter-widgets/controls",
            "_model_module_version": "1.5.0",
            "value": 1,
            "_view_count": null,
            "_view_module_version": "1.5.0",
            "orientation": "horizontal",
            "min": 0,
            "description_tooltip": null,
            "_model_module": "@jupyter-widgets/controls",
            "layout": "IPY_MODEL_029e6994f1ca4ed0b7563c9bf32b1755"
          }
        },
        "54c831f42515473995304a260f067524": {
          "model_module": "@jupyter-widgets/controls",
          "model_name": "HTMLModel",
          "model_module_version": "1.5.0",
          "state": {
            "_view_name": "HTMLView",
            "style": "IPY_MODEL_a41bc7e776ea48678f553a41122331dd",
            "_dom_classes": [],
            "description": "",
            "_model_name": "HTMLModel",
            "placeholder": "​",
            "_view_module": "@jupyter-widgets/controls",
            "_model_module_version": "1.5.0",
            "value": " 995/0 [00:02&lt;00:00, 583.08 examples/s]",
            "_view_count": null,
            "_view_module_version": "1.5.0",
            "description_tooltip": null,
            "_model_module": "@jupyter-widgets/controls",
            "layout": "IPY_MODEL_01330d79055e4ba99df03853915f5e52"
          }
        },
        "4e98931e589f4733a27164b47b4176cc": {
          "model_module": "@jupyter-widgets/controls",
          "model_name": "DescriptionStyleModel",
          "model_module_version": "1.5.0",
          "state": {
            "_view_name": "StyleView",
            "_model_name": "DescriptionStyleModel",
            "description_width": "",
            "_view_module": "@jupyter-widgets/base",
            "_model_module_version": "1.5.0",
            "_view_count": null,
            "_view_module_version": "1.2.0",
            "_model_module": "@jupyter-widgets/controls"
          }
        },
        "d70bb146412c43ce99d795d9164475f8": {
          "model_module": "@jupyter-widgets/base",
          "model_name": "LayoutModel",
          "model_module_version": "1.2.0",
          "state": {
            "_view_name": "LayoutView",
            "grid_template_rows": null,
            "right": null,
            "justify_content": null,
            "_view_module": "@jupyter-widgets/base",
            "overflow": null,
            "_model_module_version": "1.2.0",
            "_view_count": null,
            "flex_flow": null,
            "width": null,
            "min_width": null,
            "border": null,
            "align_items": null,
            "bottom": null,
            "_model_module": "@jupyter-widgets/base",
            "top": null,
            "grid_column": null,
            "overflow_y": null,
            "overflow_x": null,
            "grid_auto_flow": null,
            "grid_area": null,
            "grid_template_columns": null,
            "flex": null,
            "_model_name": "LayoutModel",
            "justify_items": null,
            "grid_row": null,
            "max_height": null,
            "align_content": null,
            "visibility": null,
            "align_self": null,
            "height": null,
            "min_height": null,
            "padding": null,
            "grid_auto_rows": null,
            "grid_gap": null,
            "max_width": null,
            "order": null,
            "_view_module_version": "1.2.0",
            "grid_template_areas": null,
            "object_position": null,
            "object_fit": null,
            "grid_auto_columns": null,
            "margin": null,
            "display": null,
            "left": null
          }
        },
        "0aa57af407cc4f5d950be6a1ba40d5fc": {
          "model_module": "@jupyter-widgets/controls",
          "model_name": "ProgressStyleModel",
          "model_module_version": "1.5.0",
          "state": {
            "_view_name": "StyleView",
            "_model_name": "ProgressStyleModel",
            "description_width": "",
            "_view_module": "@jupyter-widgets/base",
            "_model_module_version": "1.5.0",
            "_view_count": null,
            "_view_module_version": "1.2.0",
            "bar_color": null,
            "_model_module": "@jupyter-widgets/controls"
          }
        },
        "029e6994f1ca4ed0b7563c9bf32b1755": {
          "model_module": "@jupyter-widgets/base",
          "model_name": "LayoutModel",
          "model_module_version": "1.2.0",
          "state": {
            "_view_name": "LayoutView",
            "grid_template_rows": null,
            "right": null,
            "justify_content": null,
            "_view_module": "@jupyter-widgets/base",
            "overflow": null,
            "_model_module_version": "1.2.0",
            "_view_count": null,
            "flex_flow": null,
            "width": "20px",
            "min_width": null,
            "border": null,
            "align_items": null,
            "bottom": null,
            "_model_module": "@jupyter-widgets/base",
            "top": null,
            "grid_column": null,
            "overflow_y": null,
            "overflow_x": null,
            "grid_auto_flow": null,
            "grid_area": null,
            "grid_template_columns": null,
            "flex": null,
            "_model_name": "LayoutModel",
            "justify_items": null,
            "grid_row": null,
            "max_height": null,
            "align_content": null,
            "visibility": null,
            "align_self": null,
            "height": null,
            "min_height": null,
            "padding": null,
            "grid_auto_rows": null,
            "grid_gap": null,
            "max_width": null,
            "order": null,
            "_view_module_version": "1.2.0",
            "grid_template_areas": null,
            "object_position": null,
            "object_fit": null,
            "grid_auto_columns": null,
            "margin": null,
            "display": null,
            "left": null
          }
        },
        "a41bc7e776ea48678f553a41122331dd": {
          "model_module": "@jupyter-widgets/controls",
          "model_name": "DescriptionStyleModel",
          "model_module_version": "1.5.0",
          "state": {
            "_view_name": "StyleView",
            "_model_name": "DescriptionStyleModel",
            "description_width": "",
            "_view_module": "@jupyter-widgets/base",
            "_model_module_version": "1.5.0",
            "_view_count": null,
            "_view_module_version": "1.2.0",
            "_model_module": "@jupyter-widgets/controls"
          }
        },
        "01330d79055e4ba99df03853915f5e52": {
          "model_module": "@jupyter-widgets/base",
          "model_name": "LayoutModel",
          "model_module_version": "1.2.0",
          "state": {
            "_view_name": "LayoutView",
            "grid_template_rows": null,
            "right": null,
            "justify_content": null,
            "_view_module": "@jupyter-widgets/base",
            "overflow": null,
            "_model_module_version": "1.2.0",
            "_view_count": null,
            "flex_flow": null,
            "width": null,
            "min_width": null,
            "border": null,
            "align_items": null,
            "bottom": null,
            "_model_module": "@jupyter-widgets/base",
            "top": null,
            "grid_column": null,
            "overflow_y": null,
            "overflow_x": null,
            "grid_auto_flow": null,
            "grid_area": null,
            "grid_template_columns": null,
            "flex": null,
            "_model_name": "LayoutModel",
            "justify_items": null,
            "grid_row": null,
            "max_height": null,
            "align_content": null,
            "visibility": null,
            "align_self": null,
            "height": null,
            "min_height": null,
            "padding": null,
            "grid_auto_rows": null,
            "grid_gap": null,
            "max_width": null,
            "order": null,
            "_view_module_version": "1.2.0",
            "grid_template_areas": null,
            "object_position": null,
            "object_fit": null,
            "grid_auto_columns": null,
            "margin": null,
            "display": null,
            "left": null
          }
        }
      }
    }
  },
  "cells": [
    {
      "cell_type": "code",
      "metadata": {
        "id": "mnAV5-gRZTEv"
      },
      "source": [
        "!pip install -U datasets > /dev/null\n",
        "!pip install contractions > /dev/null\n",
        "!pip install -U tqdm > /dev/null\n",
        "!pip install fasttext > /dev/null"
      ],
      "execution_count": null,
      "outputs": []
    },
    {
      "cell_type": "code",
      "metadata": {
        "id": "4578gLJ_X7NQ"
      },
      "source": [
        "data_path = \"drive/MyDrive/Datasets/MultiWOZ_2.2\"\n",
        "!mkdir -p {data_path}\n",
        "\n",
        "db_path = f\"{data_path}/db\""
      ],
      "execution_count": null,
      "outputs": []
    },
    {
      "cell_type": "markdown",
      "metadata": {
        "id": "GNPhbu6gQUri"
      },
      "source": [
        "# Prepare Data"
      ]
    },
    {
      "cell_type": "code",
      "metadata": {
        "id": "pbQyobaY8NOp"
      },
      "source": [
        "import os\n",
        "import json\n",
        "import pandas as pd\n",
        "import glob\n",
        "import random\n",
        "import re\n",
        "from collections import defaultdict\n",
        "import contractions\n",
        "import nltk\n",
        "from nltk.stem.porter import PorterStemmer\n",
        "from nltk.corpus import stopwords"
      ],
      "execution_count": null,
      "outputs": []
    },
    {
      "cell_type": "code",
      "metadata": {
        "id": "ii_1gLCdYyE4",
        "colab": {
          "base_uri": "https://localhost:8080/",
          "height": 152,
          "referenced_widgets": [
            "8b84aca4b91e494ab901ddd588b01e0f",
            "d387c052997d4479b5008193d320246b",
            "8ecae59303f24ba2b2413210bf4dc665",
            "49e2f0dc38e642f09f54023cf1b2d413",
            "13277d577d6d44f092c5b8f9b1af4ddd",
            "8de5d7c21f7344cb8eb7ba8c04cc0d33",
            "78d2ca3668a5455c8f49d250ac936007",
            "4e0bb00063314e3ba02ccae16ebc87dc",
            "6b6d0101f1f8439ca3169a0e028029c2",
            "032f4e1fe907460f9028e014d9ea1512",
            "beef857901984019bae5990d46f07ca8",
            "4e4d485328c24a5897ecc1c90e05089a",
            "2660ee23afa04b368928ec7b398a1a4e",
            "afc9051e109f4870b0fdbe37dafd40f3",
            "127b38df98e84baebad314cb796b9506",
            "5860cd343a9347418158e1b454e3d821",
            "722b69689f3a4e48ad69b1dc8083667c",
            "0650bd8b711d4b4eab7c88ca0bc35359",
            "103b0bdb14b548a5953bd1b427be1553",
            "ed8082d99371432da9fa9e8773cb696c",
            "b5622cf7cf504b6682b5cfd50c3e7afd",
            "3cdcab55423643048fbaaf01a11af880",
            "8526a1cae770495bba1676d1a3410e2b",
            "505e212454fa44408ba0d90f45502b96",
            "d948ee7f86f74c68abe5f8ae1f4c98cc",
            "016bf362c24b45d29b8fe3f66278a2b3",
            "436ea18dbd1840b5b245fa785a75528d",
            "2062594d3eaf4f57a105570a2c8bb6b8",
            "94c1fa6fd8414ce6b8077d822f6f94fb",
            "6536c48ab1ce4bdf99c2f4861f27674d",
            "7477887d166642dbb554c30479dbb99c",
            "c0550b38c9304aabb7716349870f22db",
            "7dd27a9cbb644f6d8dae914fe7a53364",
            "4600e80e8a5a4c5b868631c2aa06c0da",
            "30356b36bd614129a534138b61cc9df6",
            "05d347a7408a4a39ae789fe05ec427a8",
            "d79d30ef7d0f41349268fbdb4f8e5424",
            "144f52fa2f564e39b40a7942cf8d0077",
            "043456313742422aae1dd0c42e04aa1b",
            "383ba3842514428db2971d938cc3715e",
            "9411a1130c1647beac0285d1a03d20d2",
            "0a1711aa709745658a92ad1f668684c1",
            "66ea10b4dd584fb28727f4d53eb4d376",
            "c5f4b8a6841c4d4cae0290689635f3fe",
            "f5ca825aacea46cc83657f8a675cfdd4",
            "b790114963de43d39a972768015e5c20",
            "acf295acad0041ef929aff9e7d8ef08d",
            "537be0cf5bd9444f8a3a8cafd9c3defb",
            "54c831f42515473995304a260f067524",
            "4e98931e589f4733a27164b47b4176cc",
            "d70bb146412c43ce99d795d9164475f8",
            "0aa57af407cc4f5d950be6a1ba40d5fc",
            "029e6994f1ca4ed0b7563c9bf32b1755",
            "a41bc7e776ea48678f553a41122331dd",
            "01330d79055e4ba99df03853915f5e52"
          ]
        },
        "outputId": "ae7ae876-22c9-4683-c9d6-2c11722e4ef8"
      },
      "source": [
        "from datasets import load_dataset\n",
        "\n",
        "dataset = load_dataset(\"multi_woz_v22\", ignore_verifications=True)"
      ],
      "execution_count": null,
      "outputs": [
        {
          "output_type": "display_data",
          "data": {
            "application/vnd.jupyter.widget-view+json": {
              "model_id": "8b84aca4b91e494ab901ddd588b01e0f",
              "version_minor": 0,
              "version_major": 2
            },
            "text/plain": [
              "Downloading:   0%|          | 0.00/3.10k [00:00<?, ?B/s]"
            ]
          },
          "metadata": {}
        },
        {
          "output_type": "display_data",
          "data": {
            "application/vnd.jupyter.widget-view+json": {
              "model_id": "4e4d485328c24a5897ecc1c90e05089a",
              "version_minor": 0,
              "version_major": 2
            },
            "text/plain": [
              "Downloading:   0%|          | 0.00/2.77k [00:00<?, ?B/s]"
            ]
          },
          "metadata": {}
        },
        {
          "output_type": "stream",
          "text": [
            "No config specified, defaulting to: multi_woz_v22/v2.2_active_only\n"
          ],
          "name": "stderr"
        },
        {
          "output_type": "stream",
          "text": [
            "Downloading and preparing dataset multi_woz_v22/v2.2_active_only (download: 263.97 MiB, generated: 49.24 MiB, post-processed: Unknown size, total: 313.21 MiB) to /root/.cache/huggingface/datasets/multi_woz_v22/v2.2_active_only/2.2.0/7452f16a8b502e97df5c04cc4ee5436464762fa93b1ce778dd14181e79d8b51a...\n"
          ],
          "name": "stdout"
        },
        {
          "output_type": "display_data",
          "data": {
            "application/vnd.jupyter.widget-view+json": {
              "model_id": "8526a1cae770495bba1676d1a3410e2b",
              "version_minor": 0,
              "version_major": 2
            },
            "text/plain": [
              "0 examples [00:00, ? examples/s]"
            ]
          },
          "metadata": {}
        },
        {
          "output_type": "display_data",
          "data": {
            "application/vnd.jupyter.widget-view+json": {
              "model_id": "4600e80e8a5a4c5b868631c2aa06c0da",
              "version_minor": 0,
              "version_major": 2
            },
            "text/plain": [
              "0 examples [00:00, ? examples/s]"
            ]
          },
          "metadata": {}
        },
        {
          "output_type": "display_data",
          "data": {
            "application/vnd.jupyter.widget-view+json": {
              "model_id": "f5ca825aacea46cc83657f8a675cfdd4",
              "version_minor": 0,
              "version_major": 2
            },
            "text/plain": [
              "0 examples [00:00, ? examples/s]"
            ]
          },
          "metadata": {}
        },
        {
          "output_type": "stream",
          "text": [
            "Dataset multi_woz_v22 downloaded and prepared to /root/.cache/huggingface/datasets/multi_woz_v22/v2.2_active_only/2.2.0/7452f16a8b502e97df5c04cc4ee5436464762fa93b1ce778dd14181e79d8b51a. Subsequent calls will reuse this data.\n"
          ],
          "name": "stdout"
        }
      ]
    },
    {
      "cell_type": "code",
      "metadata": {
        "id": "xH31p_IGEeXp"
      },
      "source": [
        "# !git clone https://github.com/budzianowski/multiwoz.git > /dev/null\n",
        "# !cp -r multiwoz/db {data_path}\n",
        "# !tail -n +7 {db_path}/hospital_db.json > tmp.json && mv tmp.json {db_path}/hospital_db.json && rm -rf tmp.json\n",
        "# !rm -rf multiwoz"
      ],
      "execution_count": null,
      "outputs": []
    },
    {
      "cell_type": "code",
      "metadata": {
        "colab": {
          "base_uri": "https://localhost:8080/"
        },
        "id": "DFVAbv-hyl6i",
        "outputId": "82861a94-1eed-47e5-8c81-c1c5ed309fff"
      },
      "source": [
        "nltk.download('stopwords')"
      ],
      "execution_count": null,
      "outputs": [
        {
          "output_type": "stream",
          "text": [
            "[nltk_data] Downloading package stopwords to /root/nltk_data...\n",
            "[nltk_data]   Unzipping corpora/stopwords.zip.\n"
          ],
          "name": "stdout"
        },
        {
          "output_type": "execute_result",
          "data": {
            "text/plain": [
              "True"
            ]
          },
          "metadata": {},
          "execution_count": 17
        }
      ]
    },
    {
      "cell_type": "code",
      "metadata": {
        "id": "ritDaOVl79hP"
      },
      "source": [
        "def build_db_regexes():\n",
        "    items = defaultdict(set)\n",
        "    regexes = defaultdict(str)\n",
        "\n",
        "    for db_name in [\"attraction\", \"hotel\", \"restaurant\"]:\n",
        "        with open(f\"{db_path}/{db_name}_db.json\", \"r\") as json_file:\n",
        "            db = json.load(json_file)\n",
        "            regexes[db_name] = \"|\".join(set(f'({db_obj[\"name\"]})' for db_obj in db))\n",
        "            items[\"phone\"].update([db_obj[\"phone\"] for db_obj in db if \"phone\" in db_obj.keys()])\n",
        "            items[\"postcode\"].update([db_obj[\"postcode\"] for db_obj in db])\n",
        "\n",
        "    with open(f\"{db_path}/hospital_db.json\", \"r\") as json_file:\n",
        "        db = json.load(json_file)\n",
        "        regexes[\"hospital\"] = \"|\".join(set(f'({db_obj[\"department\"]})' for db_obj in db))\n",
        "        items[\"phone\"].update([db_obj[\"phone\"] for db_obj in db])\n",
        "\n",
        "    with open(f\"{db_path}/train_db.json\", \"r\") as json_file:\n",
        "        db = json.load(json_file)\n",
        "        items[\"trainID\"] = set(db_obj[\"trainID\"] for db_obj in db)\n",
        "\n",
        "    for key in items.keys():\n",
        "        # print(key, len(items[key]))\n",
        "        regexes[key] = \"|\".join([f\"({elem})\" for elem in items[key]])\n",
        "\n",
        "    return items, regexes"
      ],
      "execution_count": null,
      "outputs": []
    },
    {
      "cell_type": "code",
      "metadata": {
        "id": "B3SYfR_cocrf",
        "colab": {
          "base_uri": "https://localhost:8080/"
        },
        "outputId": "2ac45043-0e9b-4338-ea39-6d53f3f4deec"
      },
      "source": [
        "replace_invalid_chars =  {\n",
        "    \"\": ['\"', '#', '$', '%', '&', \"'\", '(', ')', '*', '+', '-', '/', ':', '<', '=', '>', '@', '\\\\', '`', '~', '’'],\n",
        "    \" \": [',', '.', '!', '?']\n",
        "}\n",
        "\n",
        "\n",
        "num_pattern = re.compile(\"[0-9]+\")\n",
        "def replace_num(text):\n",
        "    text = num_pattern.sub(\"NUM\", text)\n",
        "    return text\n",
        "\n",
        "clock12_pattern = re.compile(\"(1[012]|[1-9]):[0-5][0-9](\\\\s)?(?i)(am|pm)\")\n",
        "clock24_pattern = re.compile(\"([01]?[0-9]|2[0-3]):[0-5][0-9]\")\n",
        "def replace_clock(text):\n",
        "    text = clock12_pattern.sub(\"CLOCK\", text)\n",
        "    text = clock24_pattern.sub(\"CLOCK\", text)\n",
        "    return text\n",
        "\n",
        "db_items, db_regexes = build_db_regexes()\n",
        "db_patterns = {db_name: re.compile(db_regex) for db_name, db_regex in db_regexes.items()}\n",
        "def replace_dbs(text):\n",
        "    words = text.split()\n",
        "    for db_name in db_regexes.keys():\n",
        "        if db_name not in db_items.keys() or db_items[db_name].intersection(words):\n",
        "            text = db_patterns[db_name].sub(db_name.upper(), text)\n",
        "    return text\n",
        "\n",
        "def clean_text(text):\n",
        "    text = text.lower()\n",
        "    text = contractions.fix(text)\n",
        "    text = replace_dbs(text)\n",
        "    text = replace_clock(text)\n",
        "    for replace_char, invalid_chars in replace_invalid_chars.items():\n",
        "        for invalid_char in invalid_chars:\n",
        "            text = text.replace(invalid_char, replace_char)\n",
        "    text = replace_num(text)\n",
        "    return text\n",
        "\n",
        "stemmer = PorterStemmer()\n",
        "stop_words = set(stopwords.words('english'))\n",
        "def tokenize(text):\n",
        "    words = text.split()\n",
        "    words = [stemmer.stem(word) if not word.isupper() else word for word in words]\n",
        "    # words = [word for word in words if word not in stop_words]\n",
        "    return words"
      ],
      "execution_count": null,
      "outputs": [
        {
          "output_type": "stream",
          "text": [
            "/usr/local/lib/python3.7/dist-packages/ipykernel_launcher.py:12: DeprecationWarning: Flags not at the start of the expression '(1[012]|[1-9]):[0-5]' (truncated)\n",
            "  if sys.path[0] == '':\n"
          ],
          "name": "stderr"
        }
      ]
    },
    {
      "cell_type": "code",
      "metadata": {
        "id": "d2OgIC_4th1e",
        "colab": {
          "base_uri": "https://localhost:8080/"
        },
        "outputId": "535e0ffd-52d1-4120-ea74-68ff7570b32f"
      },
      "source": [
        "def parse_data(tvt):\n",
        "    # filtered_domains = set([\"bus\", \"police\", \"hospital\"])\n",
        "    filtered_domains = set()\n",
        "\n",
        "    cleaned_dialogues = {}\n",
        "    for dialogue in dataset[tvt]:\n",
        "        dialogue_id = dialogue[\"dialogue_id\"]\n",
        "        turns = dialogue[\"turns\"]\n",
        "        cleaned_turns = []\n",
        "        for speaker, utterance, frames, dialogue_acts in zip(turns[\"speaker\"], turns[\"utterance\"], turns[\"frames\"], turns[\"dialogue_acts\"]):\n",
        "            domains, intents = [], []\n",
        "            for service, state in zip(frames[\"service\"], frames[\"state\"]):\n",
        "                if state[\"active_intent\"] != \"NONE\":\n",
        "                    domains.append(service)\n",
        "                    intents.append(state[\"active_intent\"])\n",
        "\n",
        "            if filtered_domains.intersection(domains):\n",
        "                continue\n",
        "\n",
        "            slot_positions = sorted(list(zip(dialogue_acts[\"span_info\"][\"span_start\"], dialogue_acts[\"span_info\"][\"span_end\"])))\n",
        "            slot_names0, slot_names1, slot_values = [], [], []\n",
        "            for idx1, pos in enumerate(slot_positions):\n",
        "                si, ei = pos\n",
        "                slot_value = clean_text(utterance[si: ei])\n",
        "                slot_value = tokenize(slot_value)\n",
        "                slot_name0 = dialogue_acts[\"span_info\"][\"act_slot_name\"][idx1]\n",
        "                slot_type = dialogue_acts[\"span_info\"][\"act_type\"][idx1].split('-')[0].lower()\n",
        "                for idx2, word_slot_value in enumerate(slot_value):\n",
        "                    slot_values.append(word_slot_value)\n",
        "                    # slot_names0.append(f\"{'I' if idx2 else 'B'}-{slot_name0}\")\n",
        "                    slot_names0.append(slot_name0)\n",
        "                    # slot_names1.append(f\"{'I' if idx2 else 'B'}-{slot_type}_{slot_name0}\")\n",
        "                    slot_names1.append(f\"{slot_type}_{slot_name0}\")\n",
        "\n",
        "            text = clean_text(utterance)\n",
        "            words = tokenize(text)\n",
        "\n",
        "            slots0 = []\n",
        "            slots1 = []\n",
        "            idx = 0\n",
        "            for word in words:\n",
        "                if idx < len(slot_values) and word == slot_values[idx]:\n",
        "                    slots0.append(slot_names0[idx])\n",
        "                    slots1.append(slot_names1[idx])\n",
        "                    idx += 1\n",
        "                else:\n",
        "                    slots0.append(\"O\")\n",
        "                    slots1.append(\"O\")\n",
        "\n",
        "            if idx != len(slot_values):\n",
        "                continue\n",
        "\n",
        "            cleaned_turns.append({\n",
        "                \"speaker\": speaker,\n",
        "                \"words\": words,\n",
        "                \"slots0\": slots0,\n",
        "                \"slots1\": slots1,  # TODO: check and revise\n",
        "                \"domains\": domains,\n",
        "                \"intents\": intents\n",
        "            })\n",
        "\n",
        "        cleaned_dialogues[dialogue_id] = cleaned_turns\n",
        "\n",
        "    print(f\"{tvt} done!\")    \n",
        "    return cleaned_dialogues\n",
        "\n",
        "\n",
        "train_data = parse_data(\"train\")\n",
        "val_data = parse_data(\"validation\")\n",
        "test_data = parse_data(\"test\")"
      ],
      "execution_count": null,
      "outputs": [
        {
          "output_type": "stream",
          "text": [
            "train done!\n",
            "validation done!\n",
            "test done!\n"
          ],
          "name": "stdout"
        }
      ]
    },
    {
      "cell_type": "code",
      "metadata": {
        "id": "LcOskA91bNnQ"
      },
      "source": [
        "with open(f\"{data_path}/train.json\", \"w\") as json_file:\n",
        "    json.dump(train_data, json_file)\n",
        "with open(f\"{data_path}/validation.json\", \"w\") as json_file:\n",
        "    json.dump(val_data, json_file)\n",
        "with open(f\"{data_path}/test.json\", \"w\") as json_file:\n",
        "    json.dump(test_data, json_file)"
      ],
      "execution_count": null,
      "outputs": []
    },
    {
      "cell_type": "code",
      "metadata": {
        "colab": {
          "base_uri": "https://localhost:8080/"
        },
        "id": "M-gXp7GB-laA",
        "outputId": "49b7b2e7-e6ec-4248-ff8a-082b60f721e6"
      },
      "source": [
        "import gc\n",
        "\n",
        "del dataset\n",
        "gc.collect()"
      ],
      "execution_count": null,
      "outputs": [
        {
          "output_type": "execute_result",
          "data": {
            "text/plain": [
              "196"
            ]
          },
          "metadata": {},
          "execution_count": 22
        }
      ]
    },
    {
      "cell_type": "markdown",
      "metadata": {
        "id": "8hEbEatv9nco"
      },
      "source": [
        "# Label Refinement"
      ]
    },
    {
      "cell_type": "code",
      "metadata": {
        "id": "QtNuNcUYMCVS"
      },
      "source": [
        "import math\n",
        "import os\n",
        "import json\n",
        "from sklearn.pipeline import make_pipeline\n",
        "from sklearn.feature_extraction.text import TfidfVectorizer\n",
        "from sklearn.metrics import classification_report, confusion_matrix\n",
        "import fasttext\n",
        "from collections import defaultdict"
      ],
      "execution_count": null,
      "outputs": []
    },
    {
      "cell_type": "code",
      "metadata": {
        "id": "CoQPFkRmbTt2"
      },
      "source": [
        "with open(f\"{data_path}/train.json\", \"r\") as json_file:\n",
        "    train_data = json.load(json_file)\n",
        "with open(f\"{data_path}/validation.json\", \"r\") as json_file:\n",
        "    val_data = json.load(json_file)\n",
        "with open(f\"{data_path}/test.json\", \"r\") as json_file:\n",
        "    test_data = json.load(json_file)"
      ],
      "execution_count": null,
      "outputs": []
    },
    {
      "cell_type": "code",
      "metadata": {
        "id": "bXOLvdlBtzLw"
      },
      "source": [
        "def read_data(data):\n",
        "    X, y = [], []\n",
        "\n",
        "    for id, dlg in data.items():\n",
        "        for trn in dlg:\n",
        "            X.append(\" \".join(trn[\"words\"]))\n",
        "            \n",
        "            if len(trn[\"domains\"]):\n",
        "                y.append(1)\n",
        "            else:\n",
        "                y.append(0)\n",
        "\n",
        "    return X, y\n",
        "\n",
        "X_train, y_train = read_data(train_data)\n",
        "X_val, y_val = read_data(val_data)\n",
        "X_test, y_test = read_data(test_data)"
      ],
      "execution_count": null,
      "outputs": []
    },
    {
      "cell_type": "code",
      "metadata": {
        "colab": {
          "base_uri": "https://localhost:8080/"
        },
        "id": "CtIbdi8X1ibm",
        "outputId": "3f553901-6fbe-423f-b055-323aa7e21a74"
      },
      "source": [
        "print(len(y_train), len(y_val), len(y_test))"
      ],
      "execution_count": null,
      "outputs": [
        {
          "output_type": "stream",
          "text": [
            "108139 14012 13993\n"
          ],
          "name": "stdout"
        }
      ]
    },
    {
      "cell_type": "code",
      "metadata": {
        "id": "VQchThbnlqeH"
      },
      "source": [
        "def prepare_fasttext_file(filename, X, Y):\n",
        "    with open(f\"{filename}.txt\", \"w\") as txt_file:\n",
        "        for x, y in zip(X, Y):\n",
        "            txt_file.write(f\"__label__{y} {x}\\n\")\n",
        "\n",
        "prepare_fasttext_file(\"train\", X_train, y_train)\n",
        "prepare_fasttext_file(\"val\", X_val, y_val)\n",
        "prepare_fasttext_file(\"test\", X_test, y_test)"
      ],
      "execution_count": null,
      "outputs": []
    },
    {
      "cell_type": "code",
      "metadata": {
        "colab": {
          "base_uri": "https://localhost:8080/"
        },
        "id": "pq6r187k6zwN",
        "outputId": "6d29a3fd-0bcc-452d-c91c-7bda07bf77ed"
      },
      "source": [
        "import gc\n",
        "\n",
        "run_flag = True\n",
        "model_path = \"drive/MyDrive/Development/ID_in_CRS/label_model.bin\"\n",
        "\n",
        "if run_flag or not os.path.exists(model_path):\n",
        "    for rnd in range(6):\n",
        "        print(f\"ROUND {rnd + 1}\")\n",
        "\n",
        "        model = fasttext.train_supervised(\n",
        "            input=\"train.txt\",\n",
        "            autotuneValidationFile=\"val.txt\",\n",
        "            epoch=5\n",
        "        )\n",
        "\n",
        "        preds, _ = model.predict(X_test)\n",
        "        preds = [int(pred_label[0][-1]) for pred_label in preds]\n",
        "        print(classification_report(y_test, preds, digits=4))\n",
        "        print(confusion_matrix(y_test, preds))\n",
        "        print(\"#\" * 100)\n",
        "\n",
        "        num_changes = 0\n",
        "        # for X_list, y_list in [(X_train, y_train), (X_val, y_val), (X_test, y_test)]:\n",
        "        for X_list, y_list in [(X_train, y_train)]:\n",
        "            preds, probs = model.predict(X_list)\n",
        "            preds = [int(pred_label[0][-1]) for pred_label in preds]\n",
        "            probs = [prob[0] for prob in probs]\n",
        "\n",
        "            for idx in range(len(y_list)):\n",
        "                if y_list[idx] != preds[idx] and probs[idx] > (1 - (0.15 / math.log2(rnd + 2))):\n",
        "                    y_list[idx] = preds[idx]\n",
        "                    num_changes += 1  \n",
        "\n",
        "        prepare_fasttext_file(\"train\", X_train, y_train)\n",
        "        # prepare_fasttext_file(\"val\", X_val, y_val)\n",
        "        # prepare_fasttext_file(\"test\", X_test, y_test)\n",
        "        model.save_model(model_path)\n",
        "\n",
        "        del model\n",
        "        gc.collect()\n",
        "\n",
        "        if num_changes == 0:\n",
        "            break\n",
        "else:\n",
        "    model = fasttext.load_model(model_path)\n",
        "\n",
        "    preds, _ = model.predict(X_test)\n",
        "    preds = [int(pred_label[0][-1]) for pred_label in preds]\n",
        "    print(classification_report(y_test, preds, digits=4))\n",
        "    print(confusion_matrix(y_test, preds))\n",
        "\n",
        "    # for X_list, y_list in [(X_train, y_train), (X_val, y_val), (X_test, y_test)]:\n",
        "    for X_list, y_list in [(X_train, y_train)]:\n",
        "        preds, probs = model.predict(X_list)\n",
        "        preds = [int(pred_label[0][-1]) for pred_label in preds]\n",
        "        probs = [prob[0] for prob in probs]\n",
        "\n",
        "        for idx in range(len(y_list)):\n",
        "            if y_list[idx] == 1 and preds[idx] == 0 and probs[idx] > 0.95:\n",
        "                y_list[idx] = 0\n",
        "            if y_list[idx] == 0 and preds[idx] == 1 and probs[idx] > 0.95:\n",
        "                y_list[idx] = 1\n",
        "\n",
        "    prepare_fasttext_file(\"train\", X_train, y_train)\n",
        "    # prepare_fasttext_file(\"val\", X_val, y_val)\n",
        "    # prepare_fasttext_file(\"test\", X_test, y_test)"
      ],
      "execution_count": null,
      "outputs": [
        {
          "output_type": "stream",
          "text": [
            "ROUND 1\n",
            "              precision    recall  f1-score   support\n",
            "\n",
            "           0     0.9778    0.9864    0.9821      7875\n",
            "           1     0.9823    0.9712    0.9767      6118\n",
            "\n",
            "    accuracy                         0.9798     13993\n",
            "   macro avg     0.9801    0.9788    0.9794     13993\n",
            "weighted avg     0.9798    0.9798    0.9798     13993\n",
            "\n",
            "[[7768  107]\n",
            " [ 176 5942]]\n",
            "####################################################################################################\n",
            "ROUND 2\n",
            "              precision    recall  f1-score   support\n",
            "\n",
            "           0     0.9778    0.9858    0.9818      7875\n",
            "           1     0.9815    0.9712    0.9763      6118\n",
            "\n",
            "    accuracy                         0.9794     13993\n",
            "   macro avg     0.9797    0.9785    0.9791     13993\n",
            "weighted avg     0.9794    0.9794    0.9794     13993\n",
            "\n",
            "[[7763  112]\n",
            " [ 176 5942]]\n",
            "####################################################################################################\n",
            "ROUND 3\n",
            "              precision    recall  f1-score   support\n",
            "\n",
            "           0     0.9771    0.9860    0.9815      7875\n",
            "           1     0.9818    0.9703    0.9760      6118\n",
            "\n",
            "    accuracy                         0.9791     13993\n",
            "   macro avg     0.9795    0.9781    0.9788     13993\n",
            "weighted avg     0.9792    0.9791    0.9791     13993\n",
            "\n",
            "[[7765  110]\n",
            " [ 182 5936]]\n",
            "####################################################################################################\n",
            "ROUND 4\n",
            "              precision    recall  f1-score   support\n",
            "\n",
            "           0     0.9781    0.9864    0.9822      7875\n",
            "           1     0.9823    0.9716    0.9769      6118\n",
            "\n",
            "    accuracy                         0.9799     13993\n",
            "   macro avg     0.9802    0.9790    0.9796     13993\n",
            "weighted avg     0.9799    0.9799    0.9799     13993\n",
            "\n",
            "[[7768  107]\n",
            " [ 174 5944]]\n",
            "####################################################################################################\n",
            "ROUND 5\n",
            "              precision    recall  f1-score   support\n",
            "\n",
            "           0     0.9772    0.9864    0.9818      7875\n",
            "           1     0.9823    0.9704    0.9763      6118\n",
            "\n",
            "    accuracy                         0.9794     13993\n",
            "   macro avg     0.9798    0.9784    0.9791     13993\n",
            "weighted avg     0.9794    0.9794    0.9794     13993\n",
            "\n",
            "[[7768  107]\n",
            " [ 181 5937]]\n",
            "####################################################################################################\n",
            "ROUND 6\n",
            "              precision    recall  f1-score   support\n",
            "\n",
            "           0     0.9765    0.9858    0.9811      7875\n",
            "           1     0.9815    0.9694    0.9754      6118\n",
            "\n",
            "    accuracy                         0.9786     13993\n",
            "   macro avg     0.9790    0.9776    0.9783     13993\n",
            "weighted avg     0.9787    0.9786    0.9786     13993\n",
            "\n",
            "[[7763  112]\n",
            " [ 187 5931]]\n",
            "####################################################################################################\n"
          ],
          "name": "stdout"
        }
      ]
    },
    {
      "cell_type": "code",
      "metadata": {
        "id": "FiKJsgLXfaR4",
        "colab": {
          "base_uri": "https://localhost:8080/"
        },
        "outputId": "927344e3-856f-4f55-b0d7-cfc8062e2eeb"
      },
      "source": [
        "model = fasttext.train_supervised(  # TODO: refine\n",
        "    input=\"train.txt\",\n",
        "    autotuneValidationFile=\"val.txt\",\n",
        "    epoch=5\n",
        ")\n",
        "\n",
        "preds, _ = model.predict(X_test)\n",
        "preds = [int(pred_label[0][-1]) for pred_label in preds]\n",
        "print(classification_report(y_test, preds, digits=4))\n",
        "print(confusion_matrix(y_test, preds))"
      ],
      "execution_count": null,
      "outputs": [
        {
          "output_type": "stream",
          "text": [
            "              precision    recall  f1-score   support\n",
            "\n",
            "           0     0.9769    0.9862    0.9815      7875\n",
            "           1     0.9820    0.9699    0.9759      6118\n",
            "\n",
            "    accuracy                         0.9791     13993\n",
            "   macro avg     0.9794    0.9780    0.9787     13993\n",
            "weighted avg     0.9791    0.9791    0.9790     13993\n",
            "\n",
            "[[7766  109]\n",
            " [ 184 5934]]\n"
          ],
          "name": "stdout"
        }
      ]
    },
    {
      "cell_type": "code",
      "metadata": {
        "id": "8QVZm3MQ71qp"
      },
      "source": [
        "refined_train_data, refined_val_data, refined_test_data = defaultdict(list), defaultdict(list), defaultdict(list)\n",
        "for data, y_list, refined_data in zip([train_data, val_data, test_data], [y_train, y_val, y_test], [refined_train_data, refined_val_data, refined_test_data]):\n",
        "    idx = 0\n",
        "\n",
        "    for id, dlg in data.items():\n",
        "        for trn in dlg:\n",
        "            if (len(trn[\"intents\"]) and y_list[idx] == 1) or (len(trn[\"intents\"]) == 0 and y_list[idx] == 0):\n",
        "                refined_data[id].append(trn)\n",
        "            idx += 1\n",
        "\n",
        "train_data = refined_train_data\n",
        "# val_data = refined_val_data\n",
        "# test_data = refined_test_data\n",
        "\n",
        "del refined_train_data\n",
        "del refined_val_data\n",
        "del refined_test_data"
      ],
      "execution_count": null,
      "outputs": []
    },
    {
      "cell_type": "code",
      "metadata": {
        "id": "8Tx_LjcbC7dz",
        "colab": {
          "base_uri": "https://localhost:8080/"
        },
        "outputId": "36a0a39c-b2de-4990-8d19-296c414366ab"
      },
      "source": [
        "import gc\n",
        "gc.collect()"
      ],
      "execution_count": null,
      "outputs": [
        {
          "output_type": "execute_result",
          "data": {
            "text/plain": [
              "50"
            ]
          },
          "metadata": {},
          "execution_count": 31
        }
      ]
    },
    {
      "cell_type": "markdown",
      "metadata": {
        "id": "IyXsxWXp_72t"
      },
      "source": [
        "# Save Data"
      ]
    },
    {
      "cell_type": "code",
      "metadata": {
        "id": "BWFKQ8XkJbWd"
      },
      "source": [
        "all_words, all_domains, all_intents, all_slots0, all_slots1 = set(), set(), set(), set(), set()\n",
        "for id, dlg in train_data.items():\n",
        "    for trn in dlg:\n",
        "        all_words.update(trn[\"words\"])\n",
        "        all_domains.update(trn[\"domains\"])\n",
        "        all_intents.update(trn[\"intents\"])\n",
        "        all_slots0.update(trn[\"slots0\"])\n",
        "        all_slots1.update(trn[\"slots1\"])\n",
        "\n",
        "with open(f\"{data_path}/words.json\", \"w\") as json_file:\n",
        "    json.dump(sorted(all_words), json_file)\n",
        "with open(f\"{data_path}/domains.json\", \"w\") as json_file:\n",
        "    json.dump(sorted(all_domains), json_file)\n",
        "with open(f\"{data_path}/intents.json\", \"w\") as json_file:\n",
        "    json.dump(sorted(all_intents), json_file)\n",
        "with open(f\"{data_path}/slots0.json\", \"w\") as json_file:\n",
        "    json.dump(sorted(all_slots0), json_file)\n",
        "with open(f\"{data_path}/slots1.json\", \"w\") as json_file:\n",
        "    json.dump(sorted(all_slots1), json_file)\n",
        "\n",
        "with open(f\"{data_path}/train.json\", \"w\") as json_file:\n",
        "    json.dump(train_data, json_file)\n",
        "with open(f\"{data_path}/validation.json\", \"w\") as json_file:\n",
        "    json.dump(val_data, json_file)\n",
        "with open(f\"{data_path}/test.json\", \"w\") as json_file:\n",
        "    json.dump(test_data, json_file)"
      ],
      "execution_count": null,
      "outputs": []
    },
    {
      "cell_type": "markdown",
      "metadata": {
        "id": "CHP14rnx8nL9"
      },
      "source": [
        "# Format to txt"
      ]
    },
    {
      "cell_type": "code",
      "metadata": {
        "id": "_LT6JuzQNJ5R"
      },
      "source": [
        "import json\n",
        "import random"
      ],
      "execution_count": null,
      "outputs": []
    },
    {
      "cell_type": "code",
      "metadata": {
        "id": "wRnaAOwBKt75"
      },
      "source": [
        "intent_label = \"intents\"\n",
        "slot_label = \"slots1\"\n",
        "\n",
        "for src_name, dst_name in zip([\"train\", \"validation\", \"test\"], [\"train\", \"dev\", \"test\"]):\n",
        "    idx = 0\n",
        "\n",
        "    with open(f\"{data_path}/{src_name}.json\", \"r\") as json_file:\n",
        "        data = json.load(json_file)\n",
        "\n",
        "    all_lines = []\n",
        "    for id, dialogue in data.items():\n",
        "        for turn in dialogue:\n",
        "            turn_lines = [f\"{word} {slot}\\n\" for word, slot in zip(turn[\"words\"], turn[slot_label])]\n",
        "            if len(turn[intent_label]) == 1:\n",
        "                turn_lines.append(f\"{turn[intent_label][0]}\\n\")\n",
        "                turn_lines.append(\"\\n\")\n",
        "                all_lines.extend(turn_lines)\n",
        "            # elif len(turn[intent_label]) == 0:\n",
        "            #     turn_lines.append(f\"general\\n\")\n",
        "            #     turn_lines.append(\"\\n\")\n",
        "            #     all_lines.extend(turn_lines)\n",
        "\n",
        "    with open(f\"{data_path}/{dst_name}.txt\", \"w\") as txt_file:\n",
        "        txt_file.writelines(all_lines)"
      ],
      "execution_count": null,
      "outputs": []
    },
    {
      "cell_type": "code",
      "metadata": {
        "id": "dKJuniujhNxI"
      },
      "source": [
        ""
      ],
      "execution_count": null,
      "outputs": []
    }
  ]
}